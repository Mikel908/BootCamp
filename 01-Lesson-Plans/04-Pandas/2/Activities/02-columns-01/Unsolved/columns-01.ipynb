{
 "cells": [
  {
   "cell_type": "markdown",
   "metadata": {},
   "source": [
    "# Column Manipulation of Pandas DataFrames"
   ]
  },
  {
   "cell_type": "markdown",
   "metadata": {},
   "source": [
    "### 1. Import libraries and dependencies"
   ]
  },
  {
   "cell_type": "code",
   "execution_count": 115,
   "metadata": {},
   "outputs": [],
   "source": [
    "# Import pandas, pathlib, and numpy libraries\n",
    "import numpy as np\n",
    "import pandas as pd\n",
    "from pathlib import Path\n",
    "%matplotlib inline"
   ]
  },
  {
   "cell_type": "markdown",
   "metadata": {},
   "source": [
    "### 2. Create a Path to the File Using Pathlib"
   ]
  },
  {
   "cell_type": "code",
   "execution_count": 116,
   "metadata": {},
   "outputs": [],
   "source": [
    "# Use the Pathlib libary to set the path to the CSV\n",
    "pr_data = Path(\"../Resources/people_reordered.csv\")\n",
    "people_data = Path(\"../Resources/people.csv\")\n"
   ]
  },
  {
   "cell_type": "markdown",
   "metadata": {},
   "source": [
    "### 3. Read the CSV into a Pandas DataFrame and Display a Few Rows"
   ]
  },
  {
   "cell_type": "code",
   "execution_count": 117,
   "metadata": {},
   "outputs": [
    {
     "data": {
      "text/html": [
       "<div>\n",
       "<style scoped>\n",
       "    .dataframe tbody tr th:only-of-type {\n",
       "        vertical-align: middle;\n",
       "    }\n",
       "\n",
       "    .dataframe tbody tr th {\n",
       "        vertical-align: top;\n",
       "    }\n",
       "\n",
       "    .dataframe thead th {\n",
       "        text-align: right;\n",
       "    }\n",
       "</style>\n",
       "<table border=\"1\" class=\"dataframe\">\n",
       "  <thead>\n",
       "    <tr style=\"text-align: right;\">\n",
       "      <th></th>\n",
       "      <th>Unnamed: 0</th>\n",
       "      <th>Last_Name</th>\n",
       "      <th>First_Name</th>\n",
       "      <th>Gender</th>\n",
       "      <th>University</th>\n",
       "      <th>Occupation</th>\n",
       "      <th>Salary</th>\n",
       "      <th>Email</th>\n",
       "      <th>Age</th>\n",
       "      <th>first_name</th>\n",
       "      <th>last_name</th>\n",
       "      <th>email</th>\n",
       "      <th>gender</th>\n",
       "      <th>uni_grad</th>\n",
       "      <th>job_title</th>\n",
       "      <th>Income</th>\n",
       "    </tr>\n",
       "  </thead>\n",
       "  <tbody>\n",
       "    <tr>\n",
       "      <th>1.0</th>\n",
       "      <td>0</td>\n",
       "      <td>Lenormand</td>\n",
       "      <td>Keriann</td>\n",
       "      <td>Female</td>\n",
       "      <td>Aurora University</td>\n",
       "      <td>Nurse Practicioner</td>\n",
       "      <td>58135.0</td>\n",
       "      <td>klenormand0@businessinsider.com</td>\n",
       "      <td>27</td>\n",
       "      <td>Keriann</td>\n",
       "      <td>Lenormand</td>\n",
       "      <td>klenormand0@businessinsider.com</td>\n",
       "      <td>Female</td>\n",
       "      <td>Aurora University</td>\n",
       "      <td>Nurse Practicioner</td>\n",
       "      <td>58135.0</td>\n",
       "    </tr>\n",
       "    <tr>\n",
       "      <th>2.0</th>\n",
       "      <td>1</td>\n",
       "      <td>Rupke</td>\n",
       "      <td>Huntley</td>\n",
       "      <td>Male</td>\n",
       "      <td>Osaka University of Economics</td>\n",
       "      <td>Project Manager</td>\n",
       "      <td>96053.0</td>\n",
       "      <td>hrupke1@reuters.com</td>\n",
       "      <td>22</td>\n",
       "      <td>Huntley</td>\n",
       "      <td>Rupke</td>\n",
       "      <td>hrupke1@reuters.com</td>\n",
       "      <td>Male</td>\n",
       "      <td>Osaka University of Economics</td>\n",
       "      <td>Project Manager</td>\n",
       "      <td>96053.0</td>\n",
       "    </tr>\n",
       "    <tr>\n",
       "      <th>3.0</th>\n",
       "      <td>2</td>\n",
       "      <td>Dalgarnowch</td>\n",
       "      <td>Gorden</td>\n",
       "      <td>Male</td>\n",
       "      <td>Ludong University</td>\n",
       "      <td>Environmental Tech</td>\n",
       "      <td>59196.0</td>\n",
       "      <td>gdalgarnowch2@microsoft.com</td>\n",
       "      <td>40</td>\n",
       "      <td>Gorden</td>\n",
       "      <td>Dalgarnowch</td>\n",
       "      <td>gdalgarnowch2@microsoft.com</td>\n",
       "      <td>Male</td>\n",
       "      <td>Ludong University</td>\n",
       "      <td>Environmental Tech</td>\n",
       "      <td>59196.0</td>\n",
       "    </tr>\n",
       "    <tr>\n",
       "      <th>4.0</th>\n",
       "      <td>3</td>\n",
       "      <td>Putten</td>\n",
       "      <td>Cullie</td>\n",
       "      <td>Male</td>\n",
       "      <td>Université des Sciences et de la Technologie d...</td>\n",
       "      <td>Legal Assistant</td>\n",
       "      <td>88493.0</td>\n",
       "      <td>cputten3@nymag.com</td>\n",
       "      <td>62</td>\n",
       "      <td>Cullie</td>\n",
       "      <td>NaN</td>\n",
       "      <td>cputten3@nymag.com</td>\n",
       "      <td>Male</td>\n",
       "      <td>Université des Sciences et de la Technologie d...</td>\n",
       "      <td>Legal Assistant</td>\n",
       "      <td>88493.0</td>\n",
       "    </tr>\n",
       "    <tr>\n",
       "      <th>5.0</th>\n",
       "      <td>4</td>\n",
       "      <td>Strangman</td>\n",
       "      <td>Ariel</td>\n",
       "      <td>Female</td>\n",
       "      <td>Boise State University</td>\n",
       "      <td>Project Manager</td>\n",
       "      <td>89073.0</td>\n",
       "      <td>astrangman4@bravesites.com</td>\n",
       "      <td>47</td>\n",
       "      <td>Ariel</td>\n",
       "      <td>Strangman</td>\n",
       "      <td>astrangman4@bravesites.com</td>\n",
       "      <td>Female</td>\n",
       "      <td>Boise State University</td>\n",
       "      <td>Project Manager</td>\n",
       "      <td>89073.0</td>\n",
       "    </tr>\n",
       "  </tbody>\n",
       "</table>\n",
       "</div>"
      ],
      "text/plain": [
       "     Unnamed: 0    Last_Name First_Name  Gender  \\\n",
       "1.0           0    Lenormand    Keriann  Female   \n",
       "2.0           1        Rupke    Huntley    Male   \n",
       "3.0           2  Dalgarnowch     Gorden    Male   \n",
       "4.0           3       Putten     Cullie    Male   \n",
       "5.0           4    Strangman      Ariel  Female   \n",
       "\n",
       "                                            University          Occupation  \\\n",
       "1.0                                  Aurora University  Nurse Practicioner   \n",
       "2.0                      Osaka University of Economics     Project Manager   \n",
       "3.0                                  Ludong University  Environmental Tech   \n",
       "4.0  Université des Sciences et de la Technologie d...     Legal Assistant   \n",
       "5.0                             Boise State University     Project Manager   \n",
       "\n",
       "      Salary                            Email  Age first_name    last_name  \\\n",
       "1.0  58135.0  klenormand0@businessinsider.com   27    Keriann    Lenormand   \n",
       "2.0  96053.0              hrupke1@reuters.com   22    Huntley        Rupke   \n",
       "3.0  59196.0      gdalgarnowch2@microsoft.com   40     Gorden  Dalgarnowch   \n",
       "4.0  88493.0               cputten3@nymag.com   62     Cullie          NaN   \n",
       "5.0  89073.0       astrangman4@bravesites.com   47      Ariel    Strangman   \n",
       "\n",
       "                               email  gender  \\\n",
       "1.0  klenormand0@businessinsider.com  Female   \n",
       "2.0              hrupke1@reuters.com    Male   \n",
       "3.0      gdalgarnowch2@microsoft.com    Male   \n",
       "4.0               cputten3@nymag.com    Male   \n",
       "5.0       astrangman4@bravesites.com  Female   \n",
       "\n",
       "                                              uni_grad           job_title  \\\n",
       "1.0                                  Aurora University  Nurse Practicioner   \n",
       "2.0                      Osaka University of Economics     Project Manager   \n",
       "3.0                                  Ludong University  Environmental Tech   \n",
       "4.0  Université des Sciences et de la Technologie d...     Legal Assistant   \n",
       "5.0                             Boise State University     Project Manager   \n",
       "\n",
       "      Income  \n",
       "1.0  58135.0  \n",
       "2.0  96053.0  \n",
       "3.0  59196.0  \n",
       "4.0  88493.0  \n",
       "5.0  89073.0  "
      ]
     },
     "execution_count": 117,
     "metadata": {},
     "output_type": "execute_result"
    }
   ],
   "source": [
    "# Use the file path to read the CSV into a DataFrame and display a few rows\n",
    "pr_df = pd.read_csv(pr_data, index_col=\"Person_ID\", infer_datetime_format=True, parse_dates=True)\n",
    "people_df = pd.read_csv(people_data, index_col=\"id\", infer_datetime_format=True, parse_dates=True)\n",
    "combined_df = pd.concat([pr_df,people_df],axis=\"columns\", join=\"outer\")\n",
    "combined_df.head()"
   ]
  },
  {
   "cell_type": "markdown",
   "metadata": {},
   "source": [
    "### 4. View Columns Names"
   ]
  },
  {
   "cell_type": "code",
   "execution_count": 118,
   "metadata": {},
   "outputs": [
    {
     "data": {
      "text/plain": [
       "Index(['Unnamed: 0', 'Last_Name', 'First_Name', 'Gender', 'University',\n",
       "       'Occupation', 'Salary', 'Email', 'Age', 'first_name', 'last_name',\n",
       "       'email', 'gender', 'uni_grad', 'job_title', 'Income'],\n",
       "      dtype='object')"
      ]
     },
     "execution_count": 118,
     "metadata": {},
     "output_type": "execute_result"
    }
   ],
   "source": [
    "# Use the `columns` attribute to output the column names\n",
    "combined_df.columns"
   ]
  },
  {
   "cell_type": "markdown",
   "metadata": {},
   "source": [
    "### 5. View Column Data Types"
   ]
  },
  {
   "cell_type": "code",
   "execution_count": 119,
   "metadata": {},
   "outputs": [
    {
     "data": {
      "text/plain": [
       "Unnamed: 0      int64\n",
       "Last_Name      object\n",
       "First_Name     object\n",
       "Gender         object\n",
       "University     object\n",
       "Occupation     object\n",
       "Salary        float64\n",
       "Email          object\n",
       "Age             int64\n",
       "first_name     object\n",
       "last_name      object\n",
       "email          object\n",
       "gender         object\n",
       "uni_grad       object\n",
       "job_title      object\n",
       "Income        float64\n",
       "dtype: object"
      ]
     },
     "execution_count": 119,
     "metadata": {},
     "output_type": "execute_result"
    }
   ],
   "source": [
    "# Use the `dtypes` attribute to output the column names and data types\n",
    "combined_df.dtypes\n"
   ]
  },
  {
   "cell_type": "markdown",
   "metadata": {},
   "source": [
    "### 6. Rename Columns Using List"
   ]
  },
  {
   "cell_type": "code",
   "execution_count": 120,
   "metadata": {},
   "outputs": [
    {
     "ename": "ValueError",
     "evalue": "Length mismatch: Expected axis has 16 elements, new values have 7 elements",
     "output_type": "error",
     "traceback": [
      "\u001b[1;31m---------------------------------------------------------------------------\u001b[0m",
      "\u001b[1;31mValueError\u001b[0m                                Traceback (most recent call last)",
      "\u001b[1;32mC:\\Users\\NOTEBO~1\\AppData\\Local\\Temp/ipykernel_27056/481259145.py\u001b[0m in \u001b[0;36m<module>\u001b[1;34m\u001b[0m\n\u001b[0;32m      1\u001b[0m \u001b[1;31m# Set the `columns` attribute to a new list of column names\u001b[0m\u001b[1;33m\u001b[0m\u001b[1;33m\u001b[0m\u001b[1;33m\u001b[0m\u001b[0m\n\u001b[1;32m----> 2\u001b[1;33m \u001b[0mcombined_df\u001b[0m\u001b[1;33m.\u001b[0m\u001b[0mcolumns\u001b[0m \u001b[1;33m=\u001b[0m  \u001b[1;33m[\u001b[0m\u001b[1;34m\"Last Name\"\u001b[0m\u001b[1;33m,\u001b[0m \u001b[1;34m\"First Name\"\u001b[0m\u001b[1;33m,\u001b[0m \u001b[1;34m\"M/F\"\u001b[0m\u001b[1;33m,\u001b[0m \u001b[1;34m\"School\"\u001b[0m\u001b[1;33m,\u001b[0m \u001b[1;34m\"Job\"\u001b[0m\u001b[1;33m,\u001b[0m \u001b[1;34m\"Pay\"\u001b[0m\u001b[1;33m,\u001b[0m \u001b[1;34m\"Contact\"\u001b[0m \u001b[1;34m\"How Old\"\u001b[0m\u001b[1;33m]\u001b[0m\u001b[1;33m\u001b[0m\u001b[1;33m\u001b[0m\u001b[0m\n\u001b[0m",
      "\u001b[1;32mC:\\ProgramData\\Anaconda3\\envs\\dev\\lib\\site-packages\\pandas\\core\\generic.py\u001b[0m in \u001b[0;36m__setattr__\u001b[1;34m(self, name, value)\u001b[0m\n\u001b[0;32m   5498\u001b[0m         \u001b[1;32mtry\u001b[0m\u001b[1;33m:\u001b[0m\u001b[1;33m\u001b[0m\u001b[1;33m\u001b[0m\u001b[0m\n\u001b[0;32m   5499\u001b[0m             \u001b[0mobject\u001b[0m\u001b[1;33m.\u001b[0m\u001b[0m__getattribute__\u001b[0m\u001b[1;33m(\u001b[0m\u001b[0mself\u001b[0m\u001b[1;33m,\u001b[0m \u001b[0mname\u001b[0m\u001b[1;33m)\u001b[0m\u001b[1;33m\u001b[0m\u001b[1;33m\u001b[0m\u001b[0m\n\u001b[1;32m-> 5500\u001b[1;33m             \u001b[1;32mreturn\u001b[0m \u001b[0mobject\u001b[0m\u001b[1;33m.\u001b[0m\u001b[0m__setattr__\u001b[0m\u001b[1;33m(\u001b[0m\u001b[0mself\u001b[0m\u001b[1;33m,\u001b[0m \u001b[0mname\u001b[0m\u001b[1;33m,\u001b[0m \u001b[0mvalue\u001b[0m\u001b[1;33m)\u001b[0m\u001b[1;33m\u001b[0m\u001b[1;33m\u001b[0m\u001b[0m\n\u001b[0m\u001b[0;32m   5501\u001b[0m         \u001b[1;32mexcept\u001b[0m \u001b[0mAttributeError\u001b[0m\u001b[1;33m:\u001b[0m\u001b[1;33m\u001b[0m\u001b[1;33m\u001b[0m\u001b[0m\n\u001b[0;32m   5502\u001b[0m             \u001b[1;32mpass\u001b[0m\u001b[1;33m\u001b[0m\u001b[1;33m\u001b[0m\u001b[0m\n",
      "\u001b[1;32mC:\\ProgramData\\Anaconda3\\envs\\dev\\lib\\site-packages\\pandas\\_libs\\properties.pyx\u001b[0m in \u001b[0;36mpandas._libs.properties.AxisProperty.__set__\u001b[1;34m()\u001b[0m\n",
      "\u001b[1;32mC:\\ProgramData\\Anaconda3\\envs\\dev\\lib\\site-packages\\pandas\\core\\generic.py\u001b[0m in \u001b[0;36m_set_axis\u001b[1;34m(self, axis, labels)\u001b[0m\n\u001b[0;32m    764\u001b[0m     \u001b[1;32mdef\u001b[0m \u001b[0m_set_axis\u001b[0m\u001b[1;33m(\u001b[0m\u001b[0mself\u001b[0m\u001b[1;33m,\u001b[0m \u001b[0maxis\u001b[0m\u001b[1;33m:\u001b[0m \u001b[0mint\u001b[0m\u001b[1;33m,\u001b[0m \u001b[0mlabels\u001b[0m\u001b[1;33m:\u001b[0m \u001b[0mIndex\u001b[0m\u001b[1;33m)\u001b[0m \u001b[1;33m->\u001b[0m \u001b[1;32mNone\u001b[0m\u001b[1;33m:\u001b[0m\u001b[1;33m\u001b[0m\u001b[1;33m\u001b[0m\u001b[0m\n\u001b[0;32m    765\u001b[0m         \u001b[0mlabels\u001b[0m \u001b[1;33m=\u001b[0m \u001b[0mensure_index\u001b[0m\u001b[1;33m(\u001b[0m\u001b[0mlabels\u001b[0m\u001b[1;33m)\u001b[0m\u001b[1;33m\u001b[0m\u001b[1;33m\u001b[0m\u001b[0m\n\u001b[1;32m--> 766\u001b[1;33m         \u001b[0mself\u001b[0m\u001b[1;33m.\u001b[0m\u001b[0m_mgr\u001b[0m\u001b[1;33m.\u001b[0m\u001b[0mset_axis\u001b[0m\u001b[1;33m(\u001b[0m\u001b[0maxis\u001b[0m\u001b[1;33m,\u001b[0m \u001b[0mlabels\u001b[0m\u001b[1;33m)\u001b[0m\u001b[1;33m\u001b[0m\u001b[1;33m\u001b[0m\u001b[0m\n\u001b[0m\u001b[0;32m    767\u001b[0m         \u001b[0mself\u001b[0m\u001b[1;33m.\u001b[0m\u001b[0m_clear_item_cache\u001b[0m\u001b[1;33m(\u001b[0m\u001b[1;33m)\u001b[0m\u001b[1;33m\u001b[0m\u001b[1;33m\u001b[0m\u001b[0m\n\u001b[0;32m    768\u001b[0m \u001b[1;33m\u001b[0m\u001b[0m\n",
      "\u001b[1;32mC:\\ProgramData\\Anaconda3\\envs\\dev\\lib\\site-packages\\pandas\\core\\internals\\managers.py\u001b[0m in \u001b[0;36mset_axis\u001b[1;34m(self, axis, new_labels)\u001b[0m\n\u001b[0;32m    214\u001b[0m     \u001b[1;32mdef\u001b[0m \u001b[0mset_axis\u001b[0m\u001b[1;33m(\u001b[0m\u001b[0mself\u001b[0m\u001b[1;33m,\u001b[0m \u001b[0maxis\u001b[0m\u001b[1;33m:\u001b[0m \u001b[0mint\u001b[0m\u001b[1;33m,\u001b[0m \u001b[0mnew_labels\u001b[0m\u001b[1;33m:\u001b[0m \u001b[0mIndex\u001b[0m\u001b[1;33m)\u001b[0m \u001b[1;33m->\u001b[0m \u001b[1;32mNone\u001b[0m\u001b[1;33m:\u001b[0m\u001b[1;33m\u001b[0m\u001b[1;33m\u001b[0m\u001b[0m\n\u001b[0;32m    215\u001b[0m         \u001b[1;31m# Caller is responsible for ensuring we have an Index object.\u001b[0m\u001b[1;33m\u001b[0m\u001b[1;33m\u001b[0m\u001b[1;33m\u001b[0m\u001b[0m\n\u001b[1;32m--> 216\u001b[1;33m         \u001b[0mself\u001b[0m\u001b[1;33m.\u001b[0m\u001b[0m_validate_set_axis\u001b[0m\u001b[1;33m(\u001b[0m\u001b[0maxis\u001b[0m\u001b[1;33m,\u001b[0m \u001b[0mnew_labels\u001b[0m\u001b[1;33m)\u001b[0m\u001b[1;33m\u001b[0m\u001b[1;33m\u001b[0m\u001b[0m\n\u001b[0m\u001b[0;32m    217\u001b[0m         \u001b[0mself\u001b[0m\u001b[1;33m.\u001b[0m\u001b[0maxes\u001b[0m\u001b[1;33m[\u001b[0m\u001b[0maxis\u001b[0m\u001b[1;33m]\u001b[0m \u001b[1;33m=\u001b[0m \u001b[0mnew_labels\u001b[0m\u001b[1;33m\u001b[0m\u001b[1;33m\u001b[0m\u001b[0m\n\u001b[0;32m    218\u001b[0m \u001b[1;33m\u001b[0m\u001b[0m\n",
      "\u001b[1;32mC:\\ProgramData\\Anaconda3\\envs\\dev\\lib\\site-packages\\pandas\\core\\internals\\base.py\u001b[0m in \u001b[0;36m_validate_set_axis\u001b[1;34m(self, axis, new_labels)\u001b[0m\n\u001b[0;32m     56\u001b[0m         \u001b[1;32melif\u001b[0m \u001b[0mnew_len\u001b[0m \u001b[1;33m!=\u001b[0m \u001b[0mold_len\u001b[0m\u001b[1;33m:\u001b[0m\u001b[1;33m\u001b[0m\u001b[1;33m\u001b[0m\u001b[0m\n\u001b[0;32m     57\u001b[0m             raise ValueError(\n\u001b[1;32m---> 58\u001b[1;33m                 \u001b[1;34mf\"Length mismatch: Expected axis has {old_len} elements, new \"\u001b[0m\u001b[1;33m\u001b[0m\u001b[1;33m\u001b[0m\u001b[0m\n\u001b[0m\u001b[0;32m     59\u001b[0m                 \u001b[1;34mf\"values have {new_len} elements\"\u001b[0m\u001b[1;33m\u001b[0m\u001b[1;33m\u001b[0m\u001b[0m\n\u001b[0;32m     60\u001b[0m             )\n",
      "\u001b[1;31mValueError\u001b[0m: Length mismatch: Expected axis has 16 elements, new values have 7 elements"
     ]
    }
   ],
   "source": [
    "# Set the `columns` attribute to a new list of column names\n",
    "combined_df.columns =  [\"Last Name\", \"First Name\", \"M/F\", \"School\", \"Job\", \"Pay\", \"Contact\" \"How Old\"]"
   ]
  },
  {
   "cell_type": "markdown",
   "metadata": {},
   "source": [
    "### 7. Rename Columns Using Dictionary"
   ]
  },
  {
   "cell_type": "markdown",
   "metadata": {},
   "source": []
  },
  {
   "cell_type": "code",
   "execution_count": null,
   "metadata": {},
   "outputs": [],
   "source": [
    "# Use the `rename` function and set the `columns` parameter to a dictionary of new column names\n"
   ]
  },
  {
   "cell_type": "markdown",
   "metadata": {},
   "source": [
    "### 8. Re-order Columns"
   ]
  },
  {
   "cell_type": "code",
   "execution_count": null,
   "metadata": {},
   "outputs": [],
   "source": [
    "# Use a list of re-ordered column names to alter the column order of the original DataFrame\n"
   ]
  },
  {
   "cell_type": "markdown",
   "metadata": {},
   "source": [
    "### 9. Create Additional Column"
   ]
  },
  {
   "cell_type": "code",
   "execution_count": null,
   "metadata": {},
   "outputs": [],
   "source": [
    "# Use the `randint` function to randomly generate an `Age` from 22 to 65 for 1000 rows\n"
   ]
  },
  {
   "cell_type": "markdown",
   "metadata": {},
   "source": [
    "### 10. Delete Columns"
   ]
  },
  {
   "cell_type": "code",
   "execution_count": null,
   "metadata": {},
   "outputs": [],
   "source": [
    "# Use the `drop` function to delete the newly created `Age` column\n"
   ]
  },
  {
   "cell_type": "markdown",
   "metadata": {},
   "source": [
    "### 11. Save Modified DataFrame to New CSV"
   ]
  },
  {
   "cell_type": "code",
   "execution_count": null,
   "metadata": {},
   "outputs": [],
   "source": [
    "# Save the DataFrame to the `Resources` folder\n"
   ]
  }
 ],
 "metadata": {
  "kernelspec": {
   "display_name": "Python 3",
   "language": "python",
   "name": "python3"
  },
  "language_info": {
   "codemirror_mode": {
    "name": "ipython",
    "version": 3
   },
   "file_extension": ".py",
   "mimetype": "text/x-python",
   "name": "python",
   "nbconvert_exporter": "python",
   "pygments_lexer": "ipython3",
   "version": "3.7.11"
  }
 },
 "nbformat": 4,
 "nbformat_minor": 2
}
