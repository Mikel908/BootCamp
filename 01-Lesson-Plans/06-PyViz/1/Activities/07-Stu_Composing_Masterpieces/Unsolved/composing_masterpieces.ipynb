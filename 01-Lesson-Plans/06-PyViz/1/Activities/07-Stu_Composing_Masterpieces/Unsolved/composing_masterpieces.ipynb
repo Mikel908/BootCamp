{
 "cells": [
  {
   "cell_type": "markdown",
   "metadata": {},
   "source": [
    "# Composing Masterpieces\n",
    "\n",
    "In your role as a data analyst for a video streaming service, you have been asked by your manager to compare and contrast the subscriber data for various international regions over the last several years. \n",
    "\n",
    "Use your knowledge of compose and overlay plots to create visualizations to gather the data requested by your manager. "
   ]
  },
  {
   "cell_type": "code",
   "execution_count": 8,
   "metadata": {},
   "outputs": [],
   "source": [
    "# Import the required libraries and dependencies\n",
    "import pandas as pd\n",
    "import hvplot.pandas\n",
    "from pathlib import Path"
   ]
  },
  {
   "cell_type": "markdown",
   "metadata": {},
   "source": [
    "## Step 1: Prepare the Subscriber Numbers DataFrame"
   ]
  },
  {
   "cell_type": "code",
   "execution_count": 14,
   "metadata": {},
   "outputs": [
    {
     "data": {
      "text/html": [
       "<div>\n",
       "<style scoped>\n",
       "    .dataframe tbody tr th:only-of-type {\n",
       "        vertical-align: middle;\n",
       "    }\n",
       "\n",
       "    .dataframe tbody tr th {\n",
       "        vertical-align: top;\n",
       "    }\n",
       "\n",
       "    .dataframe thead th {\n",
       "        text-align: right;\n",
       "    }\n",
       "</style>\n",
       "<table border=\"1\" class=\"dataframe\">\n",
       "  <thead>\n",
       "    <tr style=\"text-align: right;\">\n",
       "      <th></th>\n",
       "      <th>Area</th>\n",
       "      <th>Years</th>\n",
       "      <th>Subscribers</th>\n",
       "    </tr>\n",
       "  </thead>\n",
       "  <tbody>\n",
       "    <tr>\n",
       "      <th>0</th>\n",
       "      <td>United States and Canada</td>\n",
       "      <td>Q1 - 2018</td>\n",
       "      <td>60909000</td>\n",
       "    </tr>\n",
       "    <tr>\n",
       "      <th>1</th>\n",
       "      <td>Europe, Middle East and Africa</td>\n",
       "      <td>Q1 - 2018</td>\n",
       "      <td>29339000</td>\n",
       "    </tr>\n",
       "    <tr>\n",
       "      <th>2</th>\n",
       "      <td>Latin America</td>\n",
       "      <td>Q1 - 2018</td>\n",
       "      <td>21260000</td>\n",
       "    </tr>\n",
       "    <tr>\n",
       "      <th>3</th>\n",
       "      <td>Asia-Pacific</td>\n",
       "      <td>Q1 - 2018</td>\n",
       "      <td>7394000</td>\n",
       "    </tr>\n",
       "    <tr>\n",
       "      <th>4</th>\n",
       "      <td>United States and Canada</td>\n",
       "      <td>Q2 - 2018</td>\n",
       "      <td>61870000</td>\n",
       "    </tr>\n",
       "    <tr>\n",
       "      <th>5</th>\n",
       "      <td>Europe, Middle East and Africa</td>\n",
       "      <td>Q2 - 2018</td>\n",
       "      <td>31317000</td>\n",
       "    </tr>\n",
       "    <tr>\n",
       "      <th>6</th>\n",
       "      <td>Latin America</td>\n",
       "      <td>Q2 - 2018</td>\n",
       "      <td>22795000</td>\n",
       "    </tr>\n",
       "    <tr>\n",
       "      <th>7</th>\n",
       "      <td>Asia-Pacific</td>\n",
       "      <td>Q2 - 2018</td>\n",
       "      <td>8372000</td>\n",
       "    </tr>\n",
       "    <tr>\n",
       "      <th>8</th>\n",
       "      <td>United States and Canada</td>\n",
       "      <td>Q3 - 2018</td>\n",
       "      <td>63010000</td>\n",
       "    </tr>\n",
       "    <tr>\n",
       "      <th>9</th>\n",
       "      <td>Europe, Middle East and Africa</td>\n",
       "      <td>Q3 - 2018</td>\n",
       "      <td>33836000</td>\n",
       "    </tr>\n",
       "    <tr>\n",
       "      <th>10</th>\n",
       "      <td>Latin America</td>\n",
       "      <td>Q3 - 2018</td>\n",
       "      <td>24115000</td>\n",
       "    </tr>\n",
       "    <tr>\n",
       "      <th>11</th>\n",
       "      <td>Asia-Pacific</td>\n",
       "      <td>Q3 - 2018</td>\n",
       "      <td>9461000</td>\n",
       "    </tr>\n",
       "    <tr>\n",
       "      <th>12</th>\n",
       "      <td>United States and Canada</td>\n",
       "      <td>Q4 - 2018</td>\n",
       "      <td>64757000</td>\n",
       "    </tr>\n",
       "    <tr>\n",
       "      <th>13</th>\n",
       "      <td>Europe, Middle East and Africa</td>\n",
       "      <td>Q4 - 2018</td>\n",
       "      <td>37818000</td>\n",
       "    </tr>\n",
       "    <tr>\n",
       "      <th>14</th>\n",
       "      <td>Latin America</td>\n",
       "      <td>Q4 - 2018</td>\n",
       "      <td>26077000</td>\n",
       "    </tr>\n",
       "    <tr>\n",
       "      <th>15</th>\n",
       "      <td>Asia-Pacific</td>\n",
       "      <td>Q4 - 2018</td>\n",
       "      <td>10607000</td>\n",
       "    </tr>\n",
       "    <tr>\n",
       "      <th>16</th>\n",
       "      <td>United States and Canada</td>\n",
       "      <td>Q1 - 2019</td>\n",
       "      <td>66633000</td>\n",
       "    </tr>\n",
       "    <tr>\n",
       "      <th>17</th>\n",
       "      <td>Europe, Middle East and Africa</td>\n",
       "      <td>Q1 - 2019</td>\n",
       "      <td>42542000</td>\n",
       "    </tr>\n",
       "    <tr>\n",
       "      <th>18</th>\n",
       "      <td>Latin America</td>\n",
       "      <td>Q1 - 2019</td>\n",
       "      <td>27547000</td>\n",
       "    </tr>\n",
       "    <tr>\n",
       "      <th>19</th>\n",
       "      <td>Asia-Pacific</td>\n",
       "      <td>Q1 - 2019</td>\n",
       "      <td>12141000</td>\n",
       "    </tr>\n",
       "    <tr>\n",
       "      <th>20</th>\n",
       "      <td>United States and Canada</td>\n",
       "      <td>Q2 - 2019</td>\n",
       "      <td>66501000</td>\n",
       "    </tr>\n",
       "    <tr>\n",
       "      <th>21</th>\n",
       "      <td>Europe, Middle East and Africa</td>\n",
       "      <td>Q2 - 2019</td>\n",
       "      <td>44229000</td>\n",
       "    </tr>\n",
       "    <tr>\n",
       "      <th>22</th>\n",
       "      <td>Latin America</td>\n",
       "      <td>Q2 - 2019</td>\n",
       "      <td>27890000</td>\n",
       "    </tr>\n",
       "    <tr>\n",
       "      <th>23</th>\n",
       "      <td>Asia-Pacific</td>\n",
       "      <td>Q2 - 2019</td>\n",
       "      <td>12942000</td>\n",
       "    </tr>\n",
       "    <tr>\n",
       "      <th>24</th>\n",
       "      <td>United States and Canada</td>\n",
       "      <td>Q3 - 2019</td>\n",
       "      <td>67114000</td>\n",
       "    </tr>\n",
       "    <tr>\n",
       "      <th>25</th>\n",
       "      <td>Europe, Middle East and Africa</td>\n",
       "      <td>Q3 - 2019</td>\n",
       "      <td>47355000</td>\n",
       "    </tr>\n",
       "    <tr>\n",
       "      <th>26</th>\n",
       "      <td>Latin America</td>\n",
       "      <td>Q3 - 2019</td>\n",
       "      <td>29380000</td>\n",
       "    </tr>\n",
       "    <tr>\n",
       "      <th>27</th>\n",
       "      <td>Asia-Pacific</td>\n",
       "      <td>Q3 - 2019</td>\n",
       "      <td>14485000</td>\n",
       "    </tr>\n",
       "    <tr>\n",
       "      <th>28</th>\n",
       "      <td>United States and Canada</td>\n",
       "      <td>Q4 - 2019</td>\n",
       "      <td>67662000</td>\n",
       "    </tr>\n",
       "    <tr>\n",
       "      <th>29</th>\n",
       "      <td>Europe, Middle East and Africa</td>\n",
       "      <td>Q4 - 2019</td>\n",
       "      <td>51778000</td>\n",
       "    </tr>\n",
       "    <tr>\n",
       "      <th>30</th>\n",
       "      <td>Latin America</td>\n",
       "      <td>Q4 - 2019</td>\n",
       "      <td>31417000</td>\n",
       "    </tr>\n",
       "    <tr>\n",
       "      <th>31</th>\n",
       "      <td>Asia-Pacific</td>\n",
       "      <td>Q4 - 2019</td>\n",
       "      <td>16233000</td>\n",
       "    </tr>\n",
       "    <tr>\n",
       "      <th>32</th>\n",
       "      <td>United States and Canada</td>\n",
       "      <td>Q1 - 2020</td>\n",
       "      <td>69969000</td>\n",
       "    </tr>\n",
       "    <tr>\n",
       "      <th>33</th>\n",
       "      <td>Europe, Middle East and Africa</td>\n",
       "      <td>Q1 - 2020</td>\n",
       "      <td>58734000</td>\n",
       "    </tr>\n",
       "    <tr>\n",
       "      <th>34</th>\n",
       "      <td>Latin America</td>\n",
       "      <td>Q1 - 2020</td>\n",
       "      <td>34318000</td>\n",
       "    </tr>\n",
       "    <tr>\n",
       "      <th>35</th>\n",
       "      <td>Asia-Pacific</td>\n",
       "      <td>Q1 - 2020</td>\n",
       "      <td>19835000</td>\n",
       "    </tr>\n",
       "    <tr>\n",
       "      <th>36</th>\n",
       "      <td>United States and Canada</td>\n",
       "      <td>Q2 - 2020</td>\n",
       "      <td>72904000</td>\n",
       "    </tr>\n",
       "    <tr>\n",
       "      <th>37</th>\n",
       "      <td>Europe, Middle East and Africa</td>\n",
       "      <td>Q2 - 2020</td>\n",
       "      <td>61483000</td>\n",
       "    </tr>\n",
       "    <tr>\n",
       "      <th>38</th>\n",
       "      <td>Latin America</td>\n",
       "      <td>Q2 - 2020</td>\n",
       "      <td>36068000</td>\n",
       "    </tr>\n",
       "    <tr>\n",
       "      <th>39</th>\n",
       "      <td>Asia-Pacific</td>\n",
       "      <td>Q2 - 2020</td>\n",
       "      <td>22492000</td>\n",
       "    </tr>\n",
       "  </tbody>\n",
       "</table>\n",
       "</div>"
      ],
      "text/plain": [
       "                              Area      Years  Subscribers\n",
       "0         United States and Canada  Q1 - 2018     60909000\n",
       "1   Europe, Middle East and Africa  Q1 - 2018     29339000\n",
       "2                    Latin America  Q1 - 2018     21260000\n",
       "3                     Asia-Pacific  Q1 - 2018      7394000\n",
       "4         United States and Canada  Q2 - 2018     61870000\n",
       "5   Europe, Middle East and Africa  Q2 - 2018     31317000\n",
       "6                    Latin America  Q2 - 2018     22795000\n",
       "7                     Asia-Pacific  Q2 - 2018      8372000\n",
       "8         United States and Canada  Q3 - 2018     63010000\n",
       "9   Europe, Middle East and Africa  Q3 - 2018     33836000\n",
       "10                   Latin America  Q3 - 2018     24115000\n",
       "11                    Asia-Pacific  Q3 - 2018      9461000\n",
       "12        United States and Canada  Q4 - 2018     64757000\n",
       "13  Europe, Middle East and Africa  Q4 - 2018     37818000\n",
       "14                   Latin America  Q4 - 2018     26077000\n",
       "15                    Asia-Pacific  Q4 - 2018     10607000\n",
       "16        United States and Canada  Q1 - 2019     66633000\n",
       "17  Europe, Middle East and Africa  Q1 - 2019     42542000\n",
       "18                   Latin America  Q1 - 2019     27547000\n",
       "19                    Asia-Pacific  Q1 - 2019     12141000\n",
       "20        United States and Canada  Q2 - 2019     66501000\n",
       "21  Europe, Middle East and Africa  Q2 - 2019     44229000\n",
       "22                   Latin America  Q2 - 2019     27890000\n",
       "23                    Asia-Pacific  Q2 - 2019     12942000\n",
       "24        United States and Canada  Q3 - 2019     67114000\n",
       "25  Europe, Middle East and Africa  Q3 - 2019     47355000\n",
       "26                   Latin America  Q3 - 2019     29380000\n",
       "27                    Asia-Pacific  Q3 - 2019     14485000\n",
       "28        United States and Canada  Q4 - 2019     67662000\n",
       "29  Europe, Middle East and Africa  Q4 - 2019     51778000\n",
       "30                   Latin America  Q4 - 2019     31417000\n",
       "31                    Asia-Pacific  Q4 - 2019     16233000\n",
       "32        United States and Canada  Q1 - 2020     69969000\n",
       "33  Europe, Middle East and Africa  Q1 - 2020     58734000\n",
       "34                   Latin America  Q1 - 2020     34318000\n",
       "35                    Asia-Pacific  Q1 - 2020     19835000\n",
       "36        United States and Canada  Q2 - 2020     72904000\n",
       "37  Europe, Middle East and Africa  Q2 - 2020     61483000\n",
       "38                   Latin America  Q2 - 2020     36068000\n",
       "39                    Asia-Pacific  Q2 - 2020     22492000"
      ]
     },
     "execution_count": 14,
     "metadata": {},
     "output_type": "execute_result"
    }
   ],
   "source": [
    "# Read subscriber_numbers.csv file into a Pandas DataFrame\n",
    "subscribers_df = pd.read_csv(Path(\"../Resources/subscriber_numbers.csv\"))\n",
    "\n",
    "# Review the DataFrame\n",
    "subscribers_df\n"
   ]
  },
  {
   "cell_type": "markdown",
   "metadata": {},
   "source": [
    "## Step 2: Using both a compose plot and and overlay plot, compare the subscriber numbers for each region for the periods \"Q1 - 2018\", \"Q1 - 2019\", and \"Q1 - 2020\"."
   ]
  },
  {
   "cell_type": "code",
   "execution_count": 19,
   "metadata": {},
   "outputs": [
    {
     "ename": "AttributeError",
     "evalue": "'Series' object has no attribute 'setindex'",
     "output_type": "error",
     "traceback": [
      "\u001b[1;31m---------------------------------------------------------------------------\u001b[0m",
      "\u001b[1;31mAttributeError\u001b[0m                            Traceback (most recent call last)",
      "\u001b[1;32mC:\\Users\\NOTEBO~1\\AppData\\Local\\Temp/ipykernel_16864/2223365612.py\u001b[0m in \u001b[0;36m<module>\u001b[1;34m\u001b[0m\n\u001b[0;32m      2\u001b[0m \u001b[0mq1_2018\u001b[0m \u001b[1;33m=\u001b[0m \u001b[0msubscribers_df\u001b[0m\u001b[1;33m[\u001b[0m\u001b[1;34m\"Years\"\u001b[0m\u001b[1;33m]\u001b[0m \u001b[1;33m==\u001b[0m \u001b[1;34m\"Q1 - 2018\"\u001b[0m\u001b[1;33m\u001b[0m\u001b[1;33m\u001b[0m\u001b[0m\n\u001b[0;32m      3\u001b[0m \u001b[1;31m# Set the index of the DataFrame to Area\u001b[0m\u001b[1;33m\u001b[0m\u001b[1;33m\u001b[0m\u001b[1;33m\u001b[0m\u001b[0m\n\u001b[1;32m----> 4\u001b[1;33m \u001b[0mq1_2018\u001b[0m \u001b[1;33m=\u001b[0m \u001b[0mq1_2018\u001b[0m\u001b[1;33m.\u001b[0m\u001b[0msetindex\u001b[0m\u001b[1;33m[\u001b[0m\u001b[1;34m\"Area\"\u001b[0m\u001b[1;33m]\u001b[0m\u001b[1;33m\u001b[0m\u001b[1;33m\u001b[0m\u001b[0m\n\u001b[0m\u001b[0;32m      5\u001b[0m \u001b[1;33m\u001b[0m\u001b[0m\n\u001b[0;32m      6\u001b[0m \u001b[1;31m# Create a bar chart of the Q1 - 2018 data\u001b[0m\u001b[1;33m\u001b[0m\u001b[1;33m\u001b[0m\u001b[1;33m\u001b[0m\u001b[0m\n",
      "\u001b[1;32mC:\\ProgramData\\Anaconda3\\envs\\dev\\lib\\site-packages\\pandas\\core\\generic.py\u001b[0m in \u001b[0;36m__getattr__\u001b[1;34m(self, name)\u001b[0m\n\u001b[0;32m   5485\u001b[0m         ):\n\u001b[0;32m   5486\u001b[0m             \u001b[1;32mreturn\u001b[0m \u001b[0mself\u001b[0m\u001b[1;33m[\u001b[0m\u001b[0mname\u001b[0m\u001b[1;33m]\u001b[0m\u001b[1;33m\u001b[0m\u001b[1;33m\u001b[0m\u001b[0m\n\u001b[1;32m-> 5487\u001b[1;33m         \u001b[1;32mreturn\u001b[0m \u001b[0mobject\u001b[0m\u001b[1;33m.\u001b[0m\u001b[0m__getattribute__\u001b[0m\u001b[1;33m(\u001b[0m\u001b[0mself\u001b[0m\u001b[1;33m,\u001b[0m \u001b[0mname\u001b[0m\u001b[1;33m)\u001b[0m\u001b[1;33m\u001b[0m\u001b[1;33m\u001b[0m\u001b[0m\n\u001b[0m\u001b[0;32m   5488\u001b[0m \u001b[1;33m\u001b[0m\u001b[0m\n\u001b[0;32m   5489\u001b[0m     \u001b[1;32mdef\u001b[0m \u001b[0m__setattr__\u001b[0m\u001b[1;33m(\u001b[0m\u001b[0mself\u001b[0m\u001b[1;33m,\u001b[0m \u001b[0mname\u001b[0m\u001b[1;33m:\u001b[0m \u001b[0mstr\u001b[0m\u001b[1;33m,\u001b[0m \u001b[0mvalue\u001b[0m\u001b[1;33m)\u001b[0m \u001b[1;33m->\u001b[0m \u001b[1;32mNone\u001b[0m\u001b[1;33m:\u001b[0m\u001b[1;33m\u001b[0m\u001b[1;33m\u001b[0m\u001b[0m\n",
      "\u001b[1;31mAttributeError\u001b[0m: 'Series' object has no attribute 'setindex'"
     ]
    }
   ],
   "source": [
    "# Create a DataFrame that slices the subscriber data for Q1 - 2018.\n",
    "q1_2018 = subscribers_df[\"Years\"] == \"Q1 - 2018\"\n",
    "# Set the index of the DataFrame to Area\n",
    "q1_2018 = q1_2018.setindex[\"Area\"]\n",
    "\n",
    "# Create a bar chart of the Q1 - 2018 data\n",
    "q1_2018_plot = q1_2018.hvplot.bar()\n",
    "\n",
    "# Show the bar chart\n",
    "q1_2018_plot"
   ]
  },
  {
   "cell_type": "code",
   "execution_count": 7,
   "metadata": {},
   "outputs": [
    {
     "ename": "SyntaxError",
     "evalue": "invalid syntax (Temp/ipykernel_16864/2644893014.py, line 2)",
     "output_type": "error",
     "traceback": [
      "\u001b[1;36m  File \u001b[1;32m\"C:\\Users\\NOTEBO~1\\AppData\\Local\\Temp/ipykernel_16864/2644893014.py\"\u001b[1;36m, line \u001b[1;32m2\u001b[0m\n\u001b[1;33m    q1_2019 = # YOUR CODE HERE\u001b[0m\n\u001b[1;37m                              ^\u001b[0m\n\u001b[1;31mSyntaxError\u001b[0m\u001b[1;31m:\u001b[0m invalid syntax\n"
     ]
    }
   ],
   "source": [
    "# Create a DataFrame that slices the subscriber data for Q1 - 2019.\n",
    "q1_2019 = # YOUR CODE HERE\n",
    "\n",
    "# Set the index of the DataFrame to Area\n",
    "q1_2019 = # YOUR CODE HERE\n",
    "\n",
    "# Create a bar chart of the Q1 - 2019 data\n",
    "q1_2019_plot = # YOUR CODE HERE\n",
    "\n",
    "# Show the bar chart\n",
    "q1_2019_plot"
   ]
  },
  {
   "cell_type": "code",
   "execution_count": null,
   "metadata": {},
   "outputs": [],
   "source": [
    "# Create a DataFrame that slices the subscriber data for Q1 - 2020.\n",
    "q1_2020 = # YOUR CODE HERE\n",
    "\n",
    "# Set the index of the DataFrame to Area\n",
    "q1_2020 = # YOUR CODE HERE\n",
    "\n",
    "# Create a bar chart of the Q1 - 2020 data\n",
    "q1_2020_plot = # YOUR CODE HERE\n",
    "\n",
    "# Show the bar chart\n",
    "q1_2020_plot"
   ]
  },
  {
   "cell_type": "markdown",
   "metadata": {},
   "source": [
    "## Create a compose plot to visualize the Q1 data"
   ]
  },
  {
   "cell_type": "code",
   "execution_count": null,
   "metadata": {},
   "outputs": [],
   "source": [
    "# Create a compose plot to visualize the Q1 data side-by-side\n",
    "# YOUR CODE HERE\n"
   ]
  },
  {
   "cell_type": "markdown",
   "metadata": {},
   "source": [
    "## Create an overlay plot for the Q1 data\n",
    "\n",
    "> Hint: Does the order of the plots change the visualization?"
   ]
  },
  {
   "cell_type": "code",
   "execution_count": null,
   "metadata": {},
   "outputs": [],
   "source": [
    "# Create an overlay plot to visualize the Q1 data\n",
    "# YOUR CODE HERE\n"
   ]
  },
  {
   "cell_type": "markdown",
   "metadata": {},
   "source": [
    "**Question:** How does the rate of growth compare across each region over the time periods being analyzed?\n",
    "\n",
    "**Answer:** # YOUR ANSWER HERE"
   ]
  },
  {
   "cell_type": "markdown",
   "metadata": {},
   "source": [
    "## Step 3: Using both a compose plot and and overlay plot, combare the time series trends in subscriber numbers for the two largest regions detailed in the dataset, the \"United States and Canada\" region and the \"Europe, Middle East and Africa\" region."
   ]
  },
  {
   "cell_type": "code",
   "execution_count": null,
   "metadata": {},
   "outputs": [],
   "source": [
    "# Create a DataFrame that slices the subscriber data for the United States and Canada\n",
    "us_canada_subscribers = # YOUR CODE HERE\n",
    "\n",
    "# Set the index of the DataFrame to Years\n",
    "us_canada_subscribers = # YOUR CODE HERE\n",
    "\n",
    "# Create a line plot of the US and Canada data\n",
    "us_canada_plot = # YOUR CODE HERE\n",
    "\n",
    "# Show the plot\n",
    "us_canada_plot"
   ]
  },
  {
   "cell_type": "code",
   "execution_count": null,
   "metadata": {},
   "outputs": [],
   "source": [
    "# Create a DataFrame that slices the subscriber data for the Europe, Middle East and Africa area\n",
    "emea_subscribers = # YOUR CODE HERE\n",
    "\n",
    "# Set the index of the DataFrame to Years\n",
    "emea_subscribers = # YOUR CODE HERE\n",
    "\n",
    "# Create a line plot of the Europe, Middle East and Africa data\n",
    "emea_plot = # YOUR CODE HERE\n",
    "\n",
    "# Show the plot\n",
    "emea_plot"
   ]
  },
  {
   "cell_type": "markdown",
   "metadata": {},
   "source": [
    "## Create a compose plot to visualize the subscriber time series data for the two regions"
   ]
  },
  {
   "cell_type": "code",
   "execution_count": null,
   "metadata": {},
   "outputs": [],
   "source": [
    "# Create a compose plot to visualize the subscriber time series data for the two regions\n",
    "# YOUR CODE HERE"
   ]
  },
  {
   "cell_type": "markdown",
   "metadata": {},
   "source": [
    "## Create an overlay plot for the subcriber time series data"
   ]
  },
  {
   "cell_type": "code",
   "execution_count": null,
   "metadata": {},
   "outputs": [],
   "source": [
    "# Create an overlay plot to visualize the subscriber time series data for the two regions\n",
    "# YOUR CODE HERE"
   ]
  },
  {
   "cell_type": "markdown",
   "metadata": {},
   "source": [
    "**Question:** How does the rate of growth over the time series compare across the two regions?\n",
    "\n",
    "**Answer:** # YOUR ANSWER HERE  "
   ]
  },
  {
   "cell_type": "markdown",
   "metadata": {},
   "source": [
    "## Step 4: Answer the following question:"
   ]
  },
  {
   "cell_type": "markdown",
   "metadata": {},
   "source": [
    "**Question:** Given the information in these visualizations, toward what region would you recommend that advertising dollars be focused?\n",
    "\n",
    "**Answer:** # YOUR ANSWER HERE"
   ]
  },
  {
   "cell_type": "code",
   "execution_count": null,
   "metadata": {},
   "outputs": [],
   "source": []
  },
  {
   "cell_type": "code",
   "execution_count": null,
   "metadata": {},
   "outputs": [],
   "source": []
  }
 ],
 "metadata": {
  "kernel_info": {
   "name": "python3"
  },
  "kernelspec": {
   "display_name": "Python 3 (ipykernel)",
   "language": "python",
   "name": "python3"
  },
  "language_info": {
   "codemirror_mode": {
    "name": "ipython",
    "version": 3
   },
   "file_extension": ".py",
   "mimetype": "text/x-python",
   "name": "python",
   "nbconvert_exporter": "python",
   "pygments_lexer": "ipython3",
   "version": "3.7.11"
  },
  "nteract": {
   "version": "0.12.3"
  }
 },
 "nbformat": 4,
 "nbformat_minor": 4
}
