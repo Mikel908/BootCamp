{
 "cells": [
  {
   "cell_type": "markdown",
   "metadata": {},
   "source": [
    "# A Cartographers Expedition"
   ]
  },
  {
   "cell_type": "markdown",
   "metadata": {},
   "source": [
    "You and your friends have decided to tackle NYC old school! No cell phones or GPS devices allowed. Although everyone is a bit nervous,  you realize that using an actual map might be pretty cool.\n",
    "\n",
    "Your goal is to generate a map that plots between five and six locations in the city.  Use **hvPlot** and **GeoViews** to plot the route (point A to point B to point C) for the expedition."
   ]
  },
  {
   "cell_type": "markdown",
   "metadata": {},
   "source": [
    "## Import the required libraries and dependencies"
   ]
  },
  {
   "cell_type": "code",
   "execution_count": 7,
   "metadata": {},
   "outputs": [],
   "source": [
    "import pandas as pd\n",
    "import os\n",
    "from pathlib import Path\n",
    "import hvplot.pandas"
   ]
  },
  {
   "cell_type": "markdown",
   "metadata": {},
   "source": [
    "### Step 1: Read in the `nyc_excursion_plans.csv` file into a Pandas DataFrame. Drop any rows that contain missing data or NaN values."
   ]
  },
  {
   "cell_type": "code",
   "execution_count": 8,
   "metadata": {},
   "outputs": [
    {
     "data": {
      "text/html": [
       "<div>\n",
       "<style scoped>\n",
       "    .dataframe tbody tr th:only-of-type {\n",
       "        vertical-align: middle;\n",
       "    }\n",
       "\n",
       "    .dataframe tbody tr th {\n",
       "        vertical-align: top;\n",
       "    }\n",
       "\n",
       "    .dataframe thead th {\n",
       "        text-align: right;\n",
       "    }\n",
       "</style>\n",
       "<table border=\"1\" class=\"dataframe\">\n",
       "  <thead>\n",
       "    <tr style=\"text-align: right;\">\n",
       "      <th></th>\n",
       "      <th>Id</th>\n",
       "      <th>Longitude</th>\n",
       "      <th>Latitude</th>\n",
       "      <th>Name</th>\n",
       "      <th>PlaceType</th>\n",
       "      <th>Borough</th>\n",
       "    </tr>\n",
       "  </thead>\n",
       "  <tbody>\n",
       "    <tr>\n",
       "      <th>0</th>\n",
       "      <td>90</td>\n",
       "      <td>-73.888958</td>\n",
       "      <td>40.896210</td>\n",
       "      <td>Van Cortlandt Park</td>\n",
       "      <td>Park</td>\n",
       "      <td>Bronx</td>\n",
       "    </tr>\n",
       "    <tr>\n",
       "      <th>1</th>\n",
       "      <td>95</td>\n",
       "      <td>-73.871651</td>\n",
       "      <td>40.889879</td>\n",
       "      <td>Woodlawn Cemetery</td>\n",
       "      <td>Cemetery</td>\n",
       "      <td>Bronx</td>\n",
       "    </tr>\n",
       "    <tr>\n",
       "      <th>2</th>\n",
       "      <td>81</td>\n",
       "      <td>-73.838642</td>\n",
       "      <td>40.886965</td>\n",
       "      <td>Seton Falls Park</td>\n",
       "      <td>Park</td>\n",
       "      <td>Bronx</td>\n",
       "    </tr>\n",
       "    <tr>\n",
       "      <th>3</th>\n",
       "      <td>69</td>\n",
       "      <td>-73.809802</td>\n",
       "      <td>40.877986</td>\n",
       "      <td>Pelham Bay Park</td>\n",
       "      <td>Park</td>\n",
       "      <td>Bronx</td>\n",
       "    </tr>\n",
       "    <tr>\n",
       "      <th>4</th>\n",
       "      <td>8</td>\n",
       "      <td>-73.878308</td>\n",
       "      <td>40.864424</td>\n",
       "      <td>Botanical Garden</td>\n",
       "      <td>Garden</td>\n",
       "      <td>Bronx</td>\n",
       "    </tr>\n",
       "    <tr>\n",
       "      <th>...</th>\n",
       "      <td>...</td>\n",
       "      <td>...</td>\n",
       "      <td>...</td>\n",
       "      <td>...</td>\n",
       "      <td>...</td>\n",
       "      <td>...</td>\n",
       "    </tr>\n",
       "    <tr>\n",
       "      <th>91</th>\n",
       "      <td>80</td>\n",
       "      <td>-73.898472</td>\n",
       "      <td>40.764449</td>\n",
       "      <td>Saint Michael's Cemetery</td>\n",
       "      <td>Cemetery</td>\n",
       "      <td>Queens</td>\n",
       "    </tr>\n",
       "    <tr>\n",
       "      <th>92</th>\n",
       "      <td>75</td>\n",
       "      <td>-73.916829</td>\n",
       "      <td>40.892306</td>\n",
       "      <td>Riverdale Park</td>\n",
       "      <td>Park</td>\n",
       "      <td>Bronx</td>\n",
       "    </tr>\n",
       "    <tr>\n",
       "      <th>93</th>\n",
       "      <td>31</td>\n",
       "      <td>-73.862714</td>\n",
       "      <td>40.699448</td>\n",
       "      <td>Forest Park Golf Course</td>\n",
       "      <td>NaN</td>\n",
       "      <td>Queens</td>\n",
       "    </tr>\n",
       "    <tr>\n",
       "      <th>94</th>\n",
       "      <td>87</td>\n",
       "      <td>-73.865019</td>\n",
       "      <td>40.645828</td>\n",
       "      <td>Spring Creek Park Preserve No Access</td>\n",
       "      <td>Park</td>\n",
       "      <td>Brooklyn</td>\n",
       "    </tr>\n",
       "    <tr>\n",
       "      <th>95</th>\n",
       "      <td>86</td>\n",
       "      <td>-73.844211</td>\n",
       "      <td>40.646316</td>\n",
       "      <td>Spring Creek Park Gateway National Recreation ...</td>\n",
       "      <td>Park</td>\n",
       "      <td>Queens</td>\n",
       "    </tr>\n",
       "  </tbody>\n",
       "</table>\n",
       "<p>96 rows × 6 columns</p>\n",
       "</div>"
      ],
      "text/plain": [
       "    Id  Longitude   Latitude  \\\n",
       "0   90 -73.888958  40.896210   \n",
       "1   95 -73.871651  40.889879   \n",
       "2   81 -73.838642  40.886965   \n",
       "3   69 -73.809802  40.877986   \n",
       "4    8 -73.878308  40.864424   \n",
       "..  ..        ...        ...   \n",
       "91  80 -73.898472  40.764449   \n",
       "92  75 -73.916829  40.892306   \n",
       "93  31 -73.862714  40.699448   \n",
       "94  87 -73.865019  40.645828   \n",
       "95  86 -73.844211  40.646316   \n",
       "\n",
       "                                                 Name PlaceType   Borough  \n",
       "0                                  Van Cortlandt Park      Park     Bronx  \n",
       "1                                   Woodlawn Cemetery  Cemetery     Bronx  \n",
       "2                                    Seton Falls Park      Park     Bronx  \n",
       "3                                     Pelham Bay Park      Park     Bronx  \n",
       "4                                    Botanical Garden    Garden     Bronx  \n",
       "..                                                ...       ...       ...  \n",
       "91                           Saint Michael's Cemetery  Cemetery    Queens  \n",
       "92                                     Riverdale Park      Park     Bronx  \n",
       "93                            Forest Park Golf Course       NaN    Queens  \n",
       "94               Spring Creek Park Preserve No Access      Park  Brooklyn  \n",
       "95  Spring Creek Park Gateway National Recreation ...      Park    Queens  \n",
       "\n",
       "[96 rows x 6 columns]"
      ]
     },
     "execution_count": 8,
     "metadata": {},
     "output_type": "execute_result"
    }
   ],
   "source": [
    "# Read the the ny_places_interest.csv file into a DataFrame\n",
    "places_of_interest = pd.read_csv(\"../Resources/nyc_excursion_plans.csv\")\n",
    "\n",
    "# Review the DataFrame\n",
    "places_of_interest"
   ]
  },
  {
   "cell_type": "markdown",
   "metadata": {},
   "source": [
    "### Step 2: Slice the DataFrame to include the arrival airport and first location. Plot the arriving airport and the first location"
   ]
  },
  {
   "cell_type": "code",
   "execution_count": 16,
   "metadata": {},
   "outputs": [
    {
     "data": {},
     "metadata": {},
     "output_type": "display_data"
    },
    {
     "data": {
      "application/vnd.holoviews_exec.v0+json": "",
      "text/html": [
       "<div id='2102'>\n",
       "\n",
       "\n",
       "\n",
       "\n",
       "\n",
       "  <div class=\"bk-root\" id=\"9c2c3c7a-f2c1-44ce-904c-84bf374ad45a\" data-root-id=\"2102\"></div>\n",
       "</div>\n",
       "<script type=\"application/javascript\">(function(root) {\n",
       "  function embed_document(root) {\n",
       "    var docs_json = {\"41a73fff-8ea3-48bd-9836-9d6ecfb77f67\":{\"defs\":[{\"extends\":null,\"module\":null,\"name\":\"ReactiveHTML1\",\"overrides\":[],\"properties\":[]},{\"extends\":null,\"module\":null,\"name\":\"FlexBox1\",\"overrides\":[],\"properties\":[{\"default\":\"flex-start\",\"kind\":null,\"name\":\"align_content\"},{\"default\":\"flex-start\",\"kind\":null,\"name\":\"align_items\"},{\"default\":\"row\",\"kind\":null,\"name\":\"flex_direction\"},{\"default\":\"wrap\",\"kind\":null,\"name\":\"flex_wrap\"},{\"default\":\"flex-start\",\"kind\":null,\"name\":\"justify_content\"}]},{\"extends\":null,\"module\":null,\"name\":\"TemplateActions1\",\"overrides\":[],\"properties\":[{\"default\":0,\"kind\":null,\"name\":\"open_modal\"},{\"default\":0,\"kind\":null,\"name\":\"close_modal\"}]},{\"extends\":null,\"module\":null,\"name\":\"MaterialTemplateActions1\",\"overrides\":[],\"properties\":[{\"default\":0,\"kind\":null,\"name\":\"open_modal\"},{\"default\":0,\"kind\":null,\"name\":\"close_modal\"}]}],\"roots\":{\"references\":[{\"attributes\":{\"data\":{\"Latitude\":{\"__ndarray__\":\"Z2i4Xk7sUkE=\",\"dtype\":\"float64\",\"order\":\"little\",\"shape\":[1]},\"Longitude\":{\"__ndarray__\":\"yAuZ9U5VX8E=\",\"dtype\":\"float64\",\"order\":\"little\",\"shape\":[1]},\"Name\":[\"John F. Kennedy International Airport\"],\"color\":[\"John F. Kennedy International Airport\"]},\"selected\":{\"id\":\"2180\"},\"selection_policy\":{\"id\":\"2192\"}},\"id\":\"2179\",\"type\":\"ColumnDataSource\"},{\"attributes\":{\"label\":{\"field\":\"color\"},\"renderers\":[{\"id\":\"2187\"}]},\"id\":\"2196\",\"type\":\"LegendItem\"},{\"attributes\":{\"tools\":[{\"id\":\"2112\"},{\"id\":\"2132\"},{\"id\":\"2133\"},{\"id\":\"2134\"},{\"id\":\"2135\"},{\"id\":\"2136\"}]},\"id\":\"2138\",\"type\":\"Toolbar\"},{\"attributes\":{\"axis\":{\"id\":\"2128\"},\"coordinates\":null,\"dimension\":1,\"grid_line_color\":null,\"group\":null,\"ticker\":null},\"id\":\"2131\",\"type\":\"Grid\"},{\"attributes\":{\"fill_alpha\":{\"value\":0.8},\"fill_color\":{\"field\":\"color\",\"transform\":{\"id\":\"2178\"}},\"hatch_alpha\":{\"value\":0.8},\"hatch_color\":{\"field\":\"color\",\"transform\":{\"id\":\"2178\"}},\"line_alpha\":{\"value\":0.8},\"line_color\":{\"field\":\"color\",\"transform\":{\"id\":\"2178\"}},\"size\":{\"value\":6.9282032302755105},\"x\":{\"field\":\"Longitude\"},\"y\":{\"field\":\"Latitude\"}},\"id\":\"2185\",\"type\":\"Scatter\"},{\"attributes\":{\"coordinates\":null,\"group\":null,\"level\":\"glyph\",\"tile_source\":{\"id\":\"2173\"}},\"id\":\"2176\",\"type\":\"TileRenderer\"},{\"attributes\":{\"end\":-8213819.590978032,\"min_interval\":5,\"reset_end\":-8213819.590978032,\"reset_start\":-8213820.083954334,\"start\":-8213817.337466183,\"tags\":[[[\"Longitude\",\"Longitude\",null]]]},\"id\":\"2108\",\"type\":\"Range1d\"},{\"attributes\":{\"end\":4960569.656068328,\"min_interval\":5,\"reset_end\":4960569.656068328,\"reset_start\":4960569.303942397,\"start\":4960571.980005363,\"tags\":[[[\"Latitude\",\"Latitude\",null]]]},\"id\":\"2109\",\"type\":\"Range1d\"},{\"attributes\":{\"source\":{\"id\":\"2179\"}},\"id\":\"2188\",\"type\":\"CDSView\"},{\"attributes\":{\"callback\":null,\"formatters\":{\"$x\":{\"id\":\"2197\"},\"$y\":{\"id\":\"2198\"}},\"renderers\":[{\"id\":\"2187\"}],\"tags\":[\"hv_created\"],\"tooltips\":[[\"Longitude\",\"$x{custom}\"],[\"Latitude\",\"$y{custom}\"],[\"Name\",\"@{Name}\"]]},\"id\":\"2112\",\"type\":\"HoverTool\"},{\"attributes\":{},\"id\":\"2192\",\"type\":\"UnionRenderers\"},{\"attributes\":{\"below\":[{\"id\":\"2124\"}],\"center\":[{\"id\":\"2127\"},{\"id\":\"2131\"}],\"frame_height\":500,\"frame_width\":700,\"height\":null,\"left\":[{\"id\":\"2128\"}],\"margin\":[5,5,5,5],\"match_aspect\":true,\"min_border_bottom\":10,\"min_border_left\":10,\"min_border_right\":10,\"min_border_top\":10,\"renderers\":[{\"id\":\"2176\"},{\"id\":\"2187\"}],\"right\":[{\"id\":\"2195\"}],\"sizing_mode\":\"fixed\",\"title\":{\"id\":\"2116\"},\"toolbar\":{\"id\":\"2138\"},\"width\":null,\"x_range\":{\"id\":\"2108\"},\"x_scale\":{\"id\":\"2120\"},\"y_range\":{\"id\":\"2109\"},\"y_scale\":{\"id\":\"2122\"}},\"id\":\"2115\",\"subtype\":\"Figure\",\"type\":\"Plot\"},{\"attributes\":{\"dimension\":\"lat\"},\"id\":\"2150\",\"type\":\"MercatorTickFormatter\"},{\"attributes\":{\"code\":\"\\n        var projections = Bokeh.require(\\\"core/util/projections\\\");\\n        var x = special_vars.data_x\\n        var y = special_vars.data_y\\n        if (projections.wgs84_mercator.invert == null) {\\n          var coords = projections.wgs84_mercator.inverse([x, y])\\n        } else {\\n          var coords = projections.wgs84_mercator.invert(x, y)\\n        }\\n        return \\\"\\\" + (coords[1]).toFixed(4)\\n    \"},\"id\":\"2198\",\"type\":\"CustomJSHover\"},{\"attributes\":{\"coordinates\":null,\"group\":null,\"text_color\":\"black\",\"text_font_size\":\"12pt\"},\"id\":\"2116\",\"type\":\"Title\"},{\"attributes\":{\"fill_alpha\":{\"value\":0.8},\"fill_color\":{\"field\":\"color\",\"transform\":{\"id\":\"2178\"}},\"hatch_alpha\":{\"value\":0.8},\"hatch_color\":{\"field\":\"color\",\"transform\":{\"id\":\"2178\"}},\"line_alpha\":{\"value\":0.8},\"line_color\":{\"field\":\"color\",\"transform\":{\"id\":\"2178\"}},\"size\":{\"value\":6.9282032302755105},\"x\":{\"field\":\"Longitude\"},\"y\":{\"field\":\"Latitude\"}},\"id\":\"2182\",\"type\":\"Scatter\"},{\"attributes\":{\"fill_alpha\":{\"value\":0.8},\"fill_color\":{\"field\":\"color\",\"transform\":{\"id\":\"2178\"}},\"hatch_alpha\":{\"value\":0.1},\"hatch_color\":{\"field\":\"color\",\"transform\":{\"id\":\"2178\"}},\"line_alpha\":{\"value\":0.8},\"line_color\":{\"field\":\"color\",\"transform\":{\"id\":\"2178\"}},\"size\":{\"value\":6.9282032302755105},\"x\":{\"field\":\"Longitude\"},\"y\":{\"field\":\"Latitude\"}},\"id\":\"2183\",\"type\":\"Scatter\"},{\"attributes\":{\"bottom_units\":\"screen\",\"coordinates\":null,\"fill_alpha\":0.5,\"fill_color\":\"lightgrey\",\"group\":null,\"left_units\":\"screen\",\"level\":\"overlay\",\"line_alpha\":1.0,\"line_color\":\"black\",\"line_dash\":[4,4],\"line_width\":2,\"right_units\":\"screen\",\"syncable\":false,\"top_units\":\"screen\"},\"id\":\"2137\",\"type\":\"BoxAnnotation\"},{\"attributes\":{},\"id\":\"2132\",\"type\":\"SaveTool\"},{\"attributes\":{\"dimension\":\"lat\"},\"id\":\"2149\",\"type\":\"MercatorTicker\"},{\"attributes\":{},\"id\":\"2133\",\"type\":\"PanTool\"},{\"attributes\":{\"margin\":[5,5,5,5],\"name\":\"HSpacer05166\",\"sizing_mode\":\"stretch_width\"},\"id\":\"2253\",\"type\":\"Spacer\"},{\"attributes\":{},\"id\":\"2136\",\"type\":\"ResetTool\"},{\"attributes\":{\"zoom_on_axis\":false},\"id\":\"2134\",\"type\":\"WheelZoomTool\"},{\"attributes\":{},\"id\":\"2160\",\"type\":\"AllLabels\"},{\"attributes\":{\"match_aspect\":true,\"overlay\":{\"id\":\"2137\"}},\"id\":\"2135\",\"type\":\"BoxZoomTool\"},{\"attributes\":{\"attribution\":\"&copy; <a href=\\\"https://www.openstreetmap.org/copyright\\\">OpenStreetMap</a> contributors\",\"url\":\"https://c.tile.openstreetmap.org/{Z}/{X}/{Y}.png\"},\"id\":\"2173\",\"type\":\"WMTSTileSource\"},{\"attributes\":{\"coordinates\":null,\"data_source\":{\"id\":\"2179\"},\"glyph\":{\"id\":\"2182\"},\"group\":null,\"hover_glyph\":{\"id\":\"2185\"},\"muted_glyph\":{\"id\":\"2186\"},\"nonselection_glyph\":{\"id\":\"2183\"},\"selection_glyph\":{\"id\":\"2184\"},\"view\":{\"id\":\"2188\"}},\"id\":\"2187\",\"type\":\"GlyphRenderer\"},{\"attributes\":{},\"id\":\"2180\",\"type\":\"Selection\"},{\"attributes\":{\"margin\":[5,5,5,5],\"name\":\"HSpacer05165\",\"sizing_mode\":\"stretch_width\"},\"id\":\"2103\",\"type\":\"Spacer\"},{\"attributes\":{},\"id\":\"2120\",\"type\":\"LinearScale\"},{\"attributes\":{\"fill_alpha\":{\"value\":0.2},\"fill_color\":{\"field\":\"color\",\"transform\":{\"id\":\"2178\"}},\"hatch_alpha\":{\"value\":0.2},\"hatch_color\":{\"field\":\"color\",\"transform\":{\"id\":\"2178\"}},\"line_alpha\":{\"value\":0.2},\"line_color\":{\"field\":\"color\",\"transform\":{\"id\":\"2178\"}},\"size\":{\"value\":6.9282032302755105},\"x\":{\"field\":\"Longitude\"},\"y\":{\"field\":\"Latitude\"}},\"id\":\"2186\",\"type\":\"Scatter\"},{\"attributes\":{\"click_policy\":\"mute\",\"coordinates\":null,\"group\":null,\"items\":[{\"id\":\"2196\"}],\"location\":[0,0]},\"id\":\"2195\",\"type\":\"Legend\"},{\"attributes\":{\"axis\":{\"id\":\"2124\"},\"coordinates\":null,\"grid_line_color\":null,\"group\":null,\"ticker\":null},\"id\":\"2127\",\"type\":\"Grid\"},{\"attributes\":{\"code\":\"\\n        var projections = Bokeh.require(\\\"core/util/projections\\\");\\n        var x = special_vars.data_x\\n        var y = special_vars.data_y\\n        if (projections.wgs84_mercator.invert == null) {\\n          var coords = projections.wgs84_mercator.inverse([x, y])\\n        } else {\\n          var coords = projections.wgs84_mercator.invert(x, y)\\n        }\\n        return \\\"\\\" + (coords[0]).toFixed(4)\\n    \"},\"id\":\"2197\",\"type\":\"CustomJSHover\"},{\"attributes\":{\"fill_alpha\":{\"value\":0.8},\"fill_color\":{\"field\":\"color\",\"transform\":{\"id\":\"2178\"}},\"hatch_alpha\":{\"value\":0.8},\"hatch_color\":{\"field\":\"color\",\"transform\":{\"id\":\"2178\"}},\"line_alpha\":{\"value\":0.8},\"line_color\":{\"field\":\"color\",\"transform\":{\"id\":\"2178\"}},\"size\":{\"value\":6.9282032302755105},\"x\":{\"field\":\"Longitude\"},\"y\":{\"field\":\"Latitude\"}},\"id\":\"2184\",\"type\":\"Scatter\"},{\"attributes\":{\"dimension\":\"lon\"},\"id\":\"2148\",\"type\":\"MercatorTickFormatter\"},{\"attributes\":{},\"id\":\"2153\",\"type\":\"AllLabels\"},{\"attributes\":{},\"id\":\"2122\",\"type\":\"LinearScale\"},{\"attributes\":{\"axis_label\":\"y\",\"coordinates\":null,\"formatter\":{\"id\":\"2150\"},\"group\":null,\"major_label_policy\":{\"id\":\"2160\"},\"ticker\":{\"id\":\"2149\"}},\"id\":\"2128\",\"type\":\"LinearAxis\"},{\"attributes\":{\"dimension\":\"lon\"},\"id\":\"2147\",\"type\":\"MercatorTicker\"},{\"attributes\":{\"factors\":[\"John F. Kennedy International Airport\"],\"palette\":[\"#1f77b3\"]},\"id\":\"2178\",\"type\":\"CategoricalColorMapper\"},{\"attributes\":{\"axis_label\":\"x\",\"coordinates\":null,\"formatter\":{\"id\":\"2148\"},\"group\":null,\"major_label_policy\":{\"id\":\"2153\"},\"ticker\":{\"id\":\"2147\"}},\"id\":\"2124\",\"type\":\"LinearAxis\"},{\"attributes\":{\"children\":[{\"id\":\"2103\"},{\"id\":\"2115\"},{\"id\":\"2253\"}],\"margin\":[0,0,0,0],\"name\":\"Row05161\",\"tags\":[\"embedded\"]},\"id\":\"2102\",\"type\":\"Row\"}],\"root_ids\":[\"2102\"]},\"title\":\"Bokeh Application\",\"version\":\"2.4.1\"}};\n",
       "    var render_items = [{\"docid\":\"41a73fff-8ea3-48bd-9836-9d6ecfb77f67\",\"root_ids\":[\"2102\"],\"roots\":{\"2102\":\"9c2c3c7a-f2c1-44ce-904c-84bf374ad45a\"}}];\n",
       "    root.Bokeh.embed.embed_items_notebook(docs_json, render_items);\n",
       "  }\n",
       "  if (root.Bokeh !== undefined && root.Bokeh.Panel !== undefined) {\n",
       "    embed_document(root);\n",
       "  } else {\n",
       "    var attempts = 0;\n",
       "    var timer = setInterval(function(root) {\n",
       "      if (root.Bokeh !== undefined && root.Bokeh.Panel !== undefined) {\n",
       "        clearInterval(timer);\n",
       "        embed_document(root);\n",
       "      } else if (document.readyState == \"complete\") {\n",
       "        attempts++;\n",
       "        if (attempts > 200) {\n",
       "          clearInterval(timer);\n",
       "          console.log(\"Bokeh: ERROR: Unable to run BokehJS code because BokehJS library is missing\");\n",
       "        }\n",
       "      }\n",
       "    }, 25, root)\n",
       "  }\n",
       "})(window);</script>"
      ],
      "text/plain": [
       ":Overlay\n",
       "   .Tiles.I  :Tiles   [x,y]\n",
       "   .Points.I :Points   [Longitude,Latitude]   (Name)"
      ]
     },
     "execution_count": 16,
     "metadata": {
      "application/vnd.holoviews_exec.v0+json": {
       "id": "2102"
      }
     },
     "output_type": "execute_result"
    }
   ],
   "source": [
    "# Create a DataFrame with the arriving Airport and the first location you will visit\n",
    "arrival_and_first_location = places_of_interest[places_of_interest[\"PlaceType\"] == \"International Airport\"]\n",
    "\n",
    "# Plot the arriving airport and the first location\n",
    "# Set size = 300 to make the points easier to see on the map\n",
    "first_route = arrival_and_first_location.hvplot.points(\n",
    "    'Longitude', \n",
    "    'Latitude', \n",
    "    geo=True, \n",
    "    scale = .4,\n",
    "    color='Name',\n",
    "    alpha=0.8,\n",
    "    tiles='OSM',\n",
    "    frame_width = 700,\n",
    "    frame_height = 500,\n",
    "    size = 300\n",
    "\n",
    "    )\n",
    "\n",
    "# Show the plot\n",
    "first_route"
   ]
  },
  {
   "cell_type": "code",
   "execution_count": 10,
   "metadata": {},
   "outputs": [
    {
     "data": {
      "text/html": [
       "<div>\n",
       "<style scoped>\n",
       "    .dataframe tbody tr th:only-of-type {\n",
       "        vertical-align: middle;\n",
       "    }\n",
       "\n",
       "    .dataframe tbody tr th {\n",
       "        vertical-align: top;\n",
       "    }\n",
       "\n",
       "    .dataframe thead th {\n",
       "        text-align: right;\n",
       "    }\n",
       "</style>\n",
       "<table border=\"1\" class=\"dataframe\">\n",
       "  <thead>\n",
       "    <tr style=\"text-align: right;\">\n",
       "      <th></th>\n",
       "      <th>Id</th>\n",
       "      <th>Longitude</th>\n",
       "      <th>Latitude</th>\n",
       "      <th>Name</th>\n",
       "      <th>PlaceType</th>\n",
       "      <th>Borough</th>\n",
       "    </tr>\n",
       "  </thead>\n",
       "  <tbody>\n",
       "    <tr>\n",
       "      <th>85</th>\n",
       "      <td>48</td>\n",
       "      <td>-73.785999</td>\n",
       "      <td>40.648068</td>\n",
       "      <td>John F. Kennedy International Airport</td>\n",
       "      <td>International Airport</td>\n",
       "      <td>Queens</td>\n",
       "    </tr>\n",
       "  </tbody>\n",
       "</table>\n",
       "</div>"
      ],
      "text/plain": [
       "    Id  Longitude   Latitude                                   Name  \\\n",
       "85  48 -73.785999  40.648068  John F. Kennedy International Airport   \n",
       "\n",
       "                PlaceType Borough  \n",
       "85  International Airport  Queens  "
      ]
     },
     "execution_count": 10,
     "metadata": {},
     "output_type": "execute_result"
    }
   ],
   "source": [
    "arrival_and_first_location"
   ]
  },
  {
   "cell_type": "code",
   "execution_count": 11,
   "metadata": {},
   "outputs": [
    {
     "data": {},
     "metadata": {},
     "output_type": "display_data"
    },
    {
     "data": {
      "application/vnd.holoviews_exec.v0+json": "",
      "text/html": [
       "<div id='1553'>\n",
       "\n",
       "\n",
       "\n",
       "\n",
       "\n",
       "  <div class=\"bk-root\" id=\"e3e81a01-9a2d-470d-b38a-9871e291ceac\" data-root-id=\"1553\"></div>\n",
       "</div>\n",
       "<script type=\"application/javascript\">(function(root) {\n",
       "  function embed_document(root) {\n",
       "    var docs_json = {\"dd9b71c1-70d2-4430-9007-903b86a1d889\":{\"defs\":[{\"extends\":null,\"module\":null,\"name\":\"ReactiveHTML1\",\"overrides\":[],\"properties\":[]},{\"extends\":null,\"module\":null,\"name\":\"FlexBox1\",\"overrides\":[],\"properties\":[{\"default\":\"flex-start\",\"kind\":null,\"name\":\"align_content\"},{\"default\":\"flex-start\",\"kind\":null,\"name\":\"align_items\"},{\"default\":\"row\",\"kind\":null,\"name\":\"flex_direction\"},{\"default\":\"wrap\",\"kind\":null,\"name\":\"flex_wrap\"},{\"default\":\"flex-start\",\"kind\":null,\"name\":\"justify_content\"}]},{\"extends\":null,\"module\":null,\"name\":\"TemplateActions1\",\"overrides\":[],\"properties\":[{\"default\":0,\"kind\":null,\"name\":\"open_modal\"},{\"default\":0,\"kind\":null,\"name\":\"close_modal\"}]},{\"extends\":null,\"module\":null,\"name\":\"MaterialTemplateActions1\",\"overrides\":[],\"properties\":[{\"default\":0,\"kind\":null,\"name\":\"open_modal\"},{\"default\":0,\"kind\":null,\"name\":\"close_modal\"}]}],\"roots\":{\"references\":[{\"attributes\":{\"axis_label\":\"x\",\"coordinates\":null,\"formatter\":{\"id\":\"1599\"},\"group\":null,\"major_label_policy\":{\"id\":\"1604\"},\"ticker\":{\"id\":\"1598\"}},\"id\":\"1575\",\"type\":\"LinearAxis\"},{\"attributes\":{},\"id\":\"1604\",\"type\":\"AllLabels\"},{\"attributes\":{\"code\":\"\\n        var projections = Bokeh.require(\\\"core/util/projections\\\");\\n        var x = special_vars.data_x\\n        var y = special_vars.data_y\\n        if (projections.wgs84_mercator.invert == null) {\\n          var coords = projections.wgs84_mercator.inverse([x, y])\\n        } else {\\n          var coords = projections.wgs84_mercator.invert(x, y)\\n        }\\n        return \\\"\\\" + (coords[0]).toFixed(4)\\n    \"},\"id\":\"1648\",\"type\":\"CustomJSHover\"},{\"attributes\":{\"coordinates\":null,\"data_source\":{\"id\":\"1630\"},\"glyph\":{\"id\":\"1633\"},\"group\":null,\"hover_glyph\":{\"id\":\"1636\"},\"muted_glyph\":{\"id\":\"1637\"},\"nonselection_glyph\":{\"id\":\"1634\"},\"selection_glyph\":{\"id\":\"1635\"},\"view\":{\"id\":\"1639\"}},\"id\":\"1638\",\"type\":\"GlyphRenderer\"},{\"attributes\":{\"bottom_units\":\"screen\",\"coordinates\":null,\"fill_alpha\":0.5,\"fill_color\":\"lightgrey\",\"group\":null,\"left_units\":\"screen\",\"level\":\"overlay\",\"line_alpha\":1.0,\"line_color\":\"black\",\"line_dash\":[4,4],\"line_width\":2,\"right_units\":\"screen\",\"syncable\":false,\"top_units\":\"screen\"},\"id\":\"1588\",\"type\":\"BoxAnnotation\"},{\"attributes\":{\"data\":{\"Latitude\":{\"__ndarray__\":\"Z2i4Xk7sUkE=\",\"dtype\":\"float64\",\"order\":\"little\",\"shape\":[1]},\"Longitude\":{\"__ndarray__\":\"yAuZ9U5VX8E=\",\"dtype\":\"float64\",\"order\":\"little\",\"shape\":[1]},\"Name\":[\"John F. Kennedy International Airport\"],\"color\":[\"John F. Kennedy International Airport\"]},\"selected\":{\"id\":\"1631\"},\"selection_policy\":{\"id\":\"1643\"}},\"id\":\"1630\",\"type\":\"ColumnDataSource\"},{\"attributes\":{\"fill_alpha\":{\"value\":0.8},\"fill_color\":{\"field\":\"color\",\"transform\":{\"id\":\"1629\"}},\"hatch_alpha\":{\"value\":0.1},\"hatch_color\":{\"field\":\"color\",\"transform\":{\"id\":\"1629\"}},\"line_alpha\":{\"value\":0.8},\"line_color\":{\"field\":\"color\",\"transform\":{\"id\":\"1629\"}},\"size\":{\"value\":6.9282032302755105},\"x\":{\"field\":\"Longitude\"},\"y\":{\"field\":\"Latitude\"}},\"id\":\"1634\",\"type\":\"Scatter\"},{\"attributes\":{\"margin\":[5,5,5,5],\"name\":\"HSpacer03977\",\"sizing_mode\":\"stretch_width\"},\"id\":\"1554\",\"type\":\"Spacer\"},{\"attributes\":{\"fill_alpha\":{\"value\":0.2},\"fill_color\":{\"field\":\"color\",\"transform\":{\"id\":\"1629\"}},\"hatch_alpha\":{\"value\":0.2},\"hatch_color\":{\"field\":\"color\",\"transform\":{\"id\":\"1629\"}},\"line_alpha\":{\"value\":0.2},\"line_color\":{\"field\":\"color\",\"transform\":{\"id\":\"1629\"}},\"size\":{\"value\":6.9282032302755105},\"x\":{\"field\":\"Longitude\"},\"y\":{\"field\":\"Latitude\"}},\"id\":\"1637\",\"type\":\"Scatter\"},{\"attributes\":{\"dimension\":\"lat\"},\"id\":\"1600\",\"type\":\"MercatorTicker\"},{\"attributes\":{\"dimension\":\"lon\"},\"id\":\"1599\",\"type\":\"MercatorTickFormatter\"},{\"attributes\":{\"coordinates\":null,\"group\":null,\"level\":\"glyph\",\"tile_source\":{\"id\":\"1624\"}},\"id\":\"1627\",\"type\":\"TileRenderer\"},{\"attributes\":{\"margin\":[5,5,5,5],\"name\":\"HSpacer03978\",\"sizing_mode\":\"stretch_width\"},\"id\":\"1704\",\"type\":\"Spacer\"},{\"attributes\":{\"tools\":[{\"id\":\"1563\"},{\"id\":\"1583\"},{\"id\":\"1584\"},{\"id\":\"1585\"},{\"id\":\"1586\"},{\"id\":\"1587\"}]},\"id\":\"1589\",\"type\":\"Toolbar\"},{\"attributes\":{\"dimension\":\"lon\"},\"id\":\"1598\",\"type\":\"MercatorTicker\"},{\"attributes\":{\"code\":\"\\n        var projections = Bokeh.require(\\\"core/util/projections\\\");\\n        var x = special_vars.data_x\\n        var y = special_vars.data_y\\n        if (projections.wgs84_mercator.invert == null) {\\n          var coords = projections.wgs84_mercator.inverse([x, y])\\n        } else {\\n          var coords = projections.wgs84_mercator.invert(x, y)\\n        }\\n        return \\\"\\\" + (coords[1]).toFixed(4)\\n    \"},\"id\":\"1649\",\"type\":\"CustomJSHover\"},{\"attributes\":{\"attribution\":\"&copy; <a href=\\\"https://www.openstreetmap.org/copyright\\\">OpenStreetMap</a> contributors\",\"url\":\"https://c.tile.openstreetmap.org/{Z}/{X}/{Y}.png\"},\"id\":\"1624\",\"type\":\"WMTSTileSource\"},{\"attributes\":{},\"id\":\"1643\",\"type\":\"UnionRenderers\"},{\"attributes\":{\"axis\":{\"id\":\"1575\"},\"coordinates\":null,\"grid_line_color\":null,\"group\":null,\"ticker\":null},\"id\":\"1578\",\"type\":\"Grid\"},{\"attributes\":{\"callback\":null,\"formatters\":{\"$x\":{\"id\":\"1648\"},\"$y\":{\"id\":\"1649\"}},\"renderers\":[{\"id\":\"1638\"}],\"tags\":[\"hv_created\"],\"tooltips\":[[\"Longitude\",\"$x{custom}\"],[\"Latitude\",\"$y{custom}\"],[\"Name\",\"@{Name}\"]]},\"id\":\"1563\",\"type\":\"HoverTool\"},{\"attributes\":{\"below\":[{\"id\":\"1575\"}],\"center\":[{\"id\":\"1578\"},{\"id\":\"1582\"}],\"frame_height\":500,\"frame_width\":700,\"height\":null,\"left\":[{\"id\":\"1579\"}],\"margin\":[5,5,5,5],\"match_aspect\":true,\"min_border_bottom\":10,\"min_border_left\":10,\"min_border_right\":10,\"min_border_top\":10,\"renderers\":[{\"id\":\"1627\"},{\"id\":\"1638\"}],\"right\":[{\"id\":\"1646\"}],\"sizing_mode\":\"fixed\",\"title\":{\"id\":\"1567\"},\"toolbar\":{\"id\":\"1589\"},\"width\":null,\"x_range\":{\"id\":\"1559\"},\"x_scale\":{\"id\":\"1571\"},\"y_range\":{\"id\":\"1560\"},\"y_scale\":{\"id\":\"1573\"}},\"id\":\"1566\",\"subtype\":\"Figure\",\"type\":\"Plot\"},{\"attributes\":{\"children\":[{\"id\":\"1554\"},{\"id\":\"1566\"},{\"id\":\"1704\"}],\"margin\":[0,0,0,0],\"name\":\"Row03973\",\"tags\":[\"embedded\"]},\"id\":\"1553\",\"type\":\"Row\"},{\"attributes\":{\"axis_label\":\"y\",\"coordinates\":null,\"formatter\":{\"id\":\"1601\"},\"group\":null,\"major_label_policy\":{\"id\":\"1611\"},\"ticker\":{\"id\":\"1600\"}},\"id\":\"1579\",\"type\":\"LinearAxis\"},{\"attributes\":{},\"id\":\"1584\",\"type\":\"PanTool\"},{\"attributes\":{\"source\":{\"id\":\"1630\"}},\"id\":\"1639\",\"type\":\"CDSView\"},{\"attributes\":{},\"id\":\"1611\",\"type\":\"AllLabels\"},{\"attributes\":{},\"id\":\"1583\",\"type\":\"SaveTool\"},{\"attributes\":{},\"id\":\"1571\",\"type\":\"LinearScale\"},{\"attributes\":{},\"id\":\"1573\",\"type\":\"LinearScale\"},{\"attributes\":{\"click_policy\":\"mute\",\"coordinates\":null,\"group\":null,\"items\":[{\"id\":\"1647\"}],\"location\":[0,0]},\"id\":\"1646\",\"type\":\"Legend\"},{\"attributes\":{\"fill_alpha\":{\"value\":0.8},\"fill_color\":{\"field\":\"color\",\"transform\":{\"id\":\"1629\"}},\"hatch_alpha\":{\"value\":0.8},\"hatch_color\":{\"field\":\"color\",\"transform\":{\"id\":\"1629\"}},\"line_alpha\":{\"value\":0.8},\"line_color\":{\"field\":\"color\",\"transform\":{\"id\":\"1629\"}},\"size\":{\"value\":6.9282032302755105},\"x\":{\"field\":\"Longitude\"},\"y\":{\"field\":\"Latitude\"}},\"id\":\"1633\",\"type\":\"Scatter\"},{\"attributes\":{\"end\":4960569.656068328,\"min_interval\":5,\"reset_end\":4960569.656068328,\"reset_start\":4960569.303942397,\"start\":4960571.980005363,\"tags\":[[[\"Latitude\",\"Latitude\",null]]]},\"id\":\"1560\",\"type\":\"Range1d\"},{\"attributes\":{\"coordinates\":null,\"group\":null,\"text_color\":\"black\",\"text_font_size\":\"12pt\"},\"id\":\"1567\",\"type\":\"Title\"},{\"attributes\":{\"match_aspect\":true,\"overlay\":{\"id\":\"1588\"}},\"id\":\"1586\",\"type\":\"BoxZoomTool\"},{\"attributes\":{},\"id\":\"1631\",\"type\":\"Selection\"},{\"attributes\":{\"fill_alpha\":{\"value\":0.8},\"fill_color\":{\"field\":\"color\",\"transform\":{\"id\":\"1629\"}},\"hatch_alpha\":{\"value\":0.8},\"hatch_color\":{\"field\":\"color\",\"transform\":{\"id\":\"1629\"}},\"line_alpha\":{\"value\":0.8},\"line_color\":{\"field\":\"color\",\"transform\":{\"id\":\"1629\"}},\"size\":{\"value\":6.9282032302755105},\"x\":{\"field\":\"Longitude\"},\"y\":{\"field\":\"Latitude\"}},\"id\":\"1636\",\"type\":\"Scatter\"},{\"attributes\":{\"zoom_on_axis\":false},\"id\":\"1585\",\"type\":\"WheelZoomTool\"},{\"attributes\":{\"dimension\":\"lat\"},\"id\":\"1601\",\"type\":\"MercatorTickFormatter\"},{\"attributes\":{\"factors\":[\"John F. Kennedy International Airport\"],\"palette\":[\"#1f77b3\"]},\"id\":\"1629\",\"type\":\"CategoricalColorMapper\"},{\"attributes\":{\"axis\":{\"id\":\"1579\"},\"coordinates\":null,\"dimension\":1,\"grid_line_color\":null,\"group\":null,\"ticker\":null},\"id\":\"1582\",\"type\":\"Grid\"},{\"attributes\":{\"label\":{\"field\":\"color\"},\"renderers\":[{\"id\":\"1638\"}]},\"id\":\"1647\",\"type\":\"LegendItem\"},{\"attributes\":{\"end\":-8213819.590978032,\"min_interval\":5,\"reset_end\":-8213819.590978032,\"reset_start\":-8213820.083954334,\"start\":-8213817.337466183,\"tags\":[[[\"Longitude\",\"Longitude\",null]]]},\"id\":\"1559\",\"type\":\"Range1d\"},{\"attributes\":{},\"id\":\"1587\",\"type\":\"ResetTool\"},{\"attributes\":{\"fill_alpha\":{\"value\":0.8},\"fill_color\":{\"field\":\"color\",\"transform\":{\"id\":\"1629\"}},\"hatch_alpha\":{\"value\":0.8},\"hatch_color\":{\"field\":\"color\",\"transform\":{\"id\":\"1629\"}},\"line_alpha\":{\"value\":0.8},\"line_color\":{\"field\":\"color\",\"transform\":{\"id\":\"1629\"}},\"size\":{\"value\":6.9282032302755105},\"x\":{\"field\":\"Longitude\"},\"y\":{\"field\":\"Latitude\"}},\"id\":\"1635\",\"type\":\"Scatter\"}],\"root_ids\":[\"1553\"]},\"title\":\"Bokeh Application\",\"version\":\"2.4.1\"}};\n",
       "    var render_items = [{\"docid\":\"dd9b71c1-70d2-4430-9007-903b86a1d889\",\"root_ids\":[\"1553\"],\"roots\":{\"1553\":\"e3e81a01-9a2d-470d-b38a-9871e291ceac\"}}];\n",
       "    root.Bokeh.embed.embed_items_notebook(docs_json, render_items);\n",
       "  }\n",
       "  if (root.Bokeh !== undefined && root.Bokeh.Panel !== undefined) {\n",
       "    embed_document(root);\n",
       "  } else {\n",
       "    var attempts = 0;\n",
       "    var timer = setInterval(function(root) {\n",
       "      if (root.Bokeh !== undefined && root.Bokeh.Panel !== undefined) {\n",
       "        clearInterval(timer);\n",
       "        embed_document(root);\n",
       "      } else if (document.readyState == \"complete\") {\n",
       "        attempts++;\n",
       "        if (attempts > 200) {\n",
       "          clearInterval(timer);\n",
       "          console.log(\"Bokeh: ERROR: Unable to run BokehJS code because BokehJS library is missing\");\n",
       "        }\n",
       "      }\n",
       "    }, 25, root)\n",
       "  }\n",
       "})(window);</script>"
      ],
      "text/plain": [
       ":Overlay\n",
       "   .Tiles.I  :Tiles   [x,y]\n",
       "   .Points.I :Points   [Longitude,Latitude]   (Name)"
      ]
     },
     "execution_count": 11,
     "metadata": {
      "application/vnd.holoviews_exec.v0+json": {
       "id": "1553"
      }
     },
     "output_type": "execute_result"
    }
   ],
   "source": [
    "first_route"
   ]
  },
  {
   "cell_type": "markdown",
   "metadata": {},
   "source": [
    "### Step 3: Plot the route between your first, second and third locations."
   ]
  },
  {
   "cell_type": "code",
   "execution_count": 15,
   "metadata": {},
   "outputs": [
    {
     "data": {},
     "metadata": {},
     "output_type": "display_data"
    },
    {
     "data": {
      "application/vnd.holoviews_exec.v0+json": "",
      "text/html": [
       "<div id='1919'>\n",
       "\n",
       "\n",
       "\n",
       "\n",
       "\n",
       "  <div class=\"bk-root\" id=\"77a9d97a-30e6-491a-b8d7-8d878e1eedcf\" data-root-id=\"1919\"></div>\n",
       "</div>\n",
       "<script type=\"application/javascript\">(function(root) {\n",
       "  function embed_document(root) {\n",
       "    var docs_json = {\"39a5c079-8dda-4fe2-8de9-ba7df1873aa6\":{\"defs\":[{\"extends\":null,\"module\":null,\"name\":\"ReactiveHTML1\",\"overrides\":[],\"properties\":[]},{\"extends\":null,\"module\":null,\"name\":\"FlexBox1\",\"overrides\":[],\"properties\":[{\"default\":\"flex-start\",\"kind\":null,\"name\":\"align_content\"},{\"default\":\"flex-start\",\"kind\":null,\"name\":\"align_items\"},{\"default\":\"row\",\"kind\":null,\"name\":\"flex_direction\"},{\"default\":\"wrap\",\"kind\":null,\"name\":\"flex_wrap\"},{\"default\":\"flex-start\",\"kind\":null,\"name\":\"justify_content\"}]},{\"extends\":null,\"module\":null,\"name\":\"TemplateActions1\",\"overrides\":[],\"properties\":[{\"default\":0,\"kind\":null,\"name\":\"open_modal\"},{\"default\":0,\"kind\":null,\"name\":\"close_modal\"}]},{\"extends\":null,\"module\":null,\"name\":\"MaterialTemplateActions1\",\"overrides\":[],\"properties\":[{\"default\":0,\"kind\":null,\"name\":\"open_modal\"},{\"default\":0,\"kind\":null,\"name\":\"close_modal\"}]}],\"roots\":{\"references\":[{\"attributes\":{\"fill_alpha\":{\"value\":0.8},\"fill_color\":{\"field\":\"color\",\"transform\":{\"id\":\"1995\"}},\"hatch_alpha\":{\"value\":0.1},\"hatch_color\":{\"field\":\"color\",\"transform\":{\"id\":\"1995\"}},\"line_alpha\":{\"value\":0.8},\"line_color\":{\"field\":\"color\",\"transform\":{\"id\":\"1995\"}},\"size\":{\"value\":6.9282032302755105},\"x\":{\"field\":\"Longitude\"},\"y\":{\"field\":\"Latitude\"}},\"id\":\"2000\",\"type\":\"Scatter\"},{\"attributes\":{\"below\":[{\"id\":\"1941\"}],\"center\":[{\"id\":\"1944\"},{\"id\":\"1948\"}],\"frame_height\":500,\"frame_width\":700,\"height\":null,\"left\":[{\"id\":\"1945\"}],\"margin\":[5,5,5,5],\"match_aspect\":true,\"min_border_bottom\":10,\"min_border_left\":10,\"min_border_right\":10,\"min_border_top\":10,\"renderers\":[{\"id\":\"1993\"},{\"id\":\"2004\"}],\"right\":[{\"id\":\"2012\"}],\"sizing_mode\":\"fixed\",\"title\":{\"id\":\"1933\"},\"toolbar\":{\"id\":\"1955\"},\"width\":null,\"x_range\":{\"id\":\"1925\"},\"x_scale\":{\"id\":\"1937\"},\"y_range\":{\"id\":\"1926\"},\"y_scale\":{\"id\":\"1939\"}},\"id\":\"1932\",\"subtype\":\"Figure\",\"type\":\"Plot\"},{\"attributes\":{\"click_policy\":\"mute\",\"coordinates\":null,\"group\":null,\"items\":[{\"id\":\"2013\"}],\"location\":[0,0]},\"id\":\"2012\",\"type\":\"Legend\"},{\"attributes\":{\"attribution\":\"&copy; <a href=\\\"https://www.openstreetmap.org/copyright\\\">OpenStreetMap</a> contributors\",\"url\":\"https://c.tile.openstreetmap.org/{Z}/{X}/{Y}.png\"},\"id\":\"1990\",\"type\":\"WMTSTileSource\"},{\"attributes\":{\"code\":\"\\n        var projections = Bokeh.require(\\\"core/util/projections\\\");\\n        var x = special_vars.data_x\\n        var y = special_vars.data_y\\n        if (projections.wgs84_mercator.invert == null) {\\n          var coords = projections.wgs84_mercator.inverse([x, y])\\n        } else {\\n          var coords = projections.wgs84_mercator.invert(x, y)\\n        }\\n        return \\\"\\\" + (coords[0]).toFixed(4)\\n    \"},\"id\":\"2014\",\"type\":\"CustomJSHover\"},{\"attributes\":{\"coordinates\":null,\"group\":null,\"text_color\":\"black\",\"text_font_size\":\"12pt\"},\"id\":\"1933\",\"type\":\"Title\"},{\"attributes\":{\"data\":{\"Latitude\":{\"__ndarray__\":\"wxEM1ZgOU0FJa45sovNSQa60sW1dD1NB\",\"dtype\":\"float64\",\"order\":\"little\",\"shape\":[3]},\"Longitude\":{\"__ndarray__\":\"kScHAQhbX8ETtQab8HBfwR7Zw/GHY1/B\",\"dtype\":\"float64\",\"order\":\"little\",\"shape\":[3]},\"Name\":[\"Seton Falls Park\",\"Ellis Island\",\"Riverdale Park\"],\"color\":[\"Seton Falls Park\",\"Ellis Island\",\"Riverdale Park\"]},\"selected\":{\"id\":\"1997\"},\"selection_policy\":{\"id\":\"2009\"}},\"id\":\"1996\",\"type\":\"ColumnDataSource\"},{\"attributes\":{},\"id\":\"1997\",\"type\":\"Selection\"},{\"attributes\":{\"fill_alpha\":{\"value\":0.8},\"fill_color\":{\"field\":\"color\",\"transform\":{\"id\":\"1995\"}},\"hatch_alpha\":{\"value\":0.8},\"hatch_color\":{\"field\":\"color\",\"transform\":{\"id\":\"1995\"}},\"line_alpha\":{\"value\":0.8},\"line_color\":{\"field\":\"color\",\"transform\":{\"id\":\"1995\"}},\"size\":{\"value\":6.9282032302755105},\"x\":{\"field\":\"Longitude\"},\"y\":{\"field\":\"Latitude\"}},\"id\":\"2001\",\"type\":\"Scatter\"},{\"attributes\":{},\"id\":\"2009\",\"type\":\"UnionRenderers\"},{\"attributes\":{\"coordinates\":null,\"group\":null,\"level\":\"glyph\",\"tile_source\":{\"id\":\"1990\"}},\"id\":\"1993\",\"type\":\"TileRenderer\"},{\"attributes\":{\"tools\":[{\"id\":\"1929\"},{\"id\":\"1949\"},{\"id\":\"1950\"},{\"id\":\"1951\"},{\"id\":\"1952\"},{\"id\":\"1953\"}]},\"id\":\"1955\",\"type\":\"Toolbar\"},{\"attributes\":{\"fill_alpha\":{\"value\":0.2},\"fill_color\":{\"field\":\"color\",\"transform\":{\"id\":\"1995\"}},\"hatch_alpha\":{\"value\":0.2},\"hatch_color\":{\"field\":\"color\",\"transform\":{\"id\":\"1995\"}},\"line_alpha\":{\"value\":0.2},\"line_color\":{\"field\":\"color\",\"transform\":{\"id\":\"1995\"}},\"size\":{\"value\":6.9282032302755105},\"x\":{\"field\":\"Longitude\"},\"y\":{\"field\":\"Latitude\"}},\"id\":\"2003\",\"type\":\"Scatter\"},{\"attributes\":{\"callback\":null,\"formatters\":{\"$x\":{\"id\":\"2014\"},\"$y\":{\"id\":\"2015\"}},\"renderers\":[{\"id\":\"2004\"}],\"tags\":[\"hv_created\"],\"tooltips\":[[\"Longitude\",\"$x{custom}\"],[\"Latitude\",\"$y{custom}\"],[\"Name\",\"@{Name}\"]]},\"id\":\"1929\",\"type\":\"HoverTool\"},{\"attributes\":{\"fill_alpha\":{\"value\":0.8},\"fill_color\":{\"field\":\"color\",\"transform\":{\"id\":\"1995\"}},\"hatch_alpha\":{\"value\":0.8},\"hatch_color\":{\"field\":\"color\",\"transform\":{\"id\":\"1995\"}},\"line_alpha\":{\"value\":0.8},\"line_color\":{\"field\":\"color\",\"transform\":{\"id\":\"1995\"}},\"size\":{\"value\":6.9282032302755105},\"x\":{\"field\":\"Longitude\"},\"y\":{\"field\":\"Latitude\"}},\"id\":\"1999\",\"type\":\"Scatter\"},{\"attributes\":{},\"id\":\"1949\",\"type\":\"SaveTool\"},{\"attributes\":{\"dimension\":\"lat\"},\"id\":\"1967\",\"type\":\"MercatorTickFormatter\"},{\"attributes\":{},\"id\":\"1950\",\"type\":\"PanTool\"},{\"attributes\":{\"code\":\"\\n        var projections = Bokeh.require(\\\"core/util/projections\\\");\\n        var x = special_vars.data_x\\n        var y = special_vars.data_y\\n        if (projections.wgs84_mercator.invert == null) {\\n          var coords = projections.wgs84_mercator.inverse([x, y])\\n        } else {\\n          var coords = projections.wgs84_mercator.invert(x, y)\\n        }\\n        return \\\"\\\" + (coords[1]).toFixed(4)\\n    \"},\"id\":\"2015\",\"type\":\"CustomJSHover\"},{\"attributes\":{},\"id\":\"1953\",\"type\":\"ResetTool\"},{\"attributes\":{\"zoom_on_axis\":false},\"id\":\"1951\",\"type\":\"WheelZoomTool\"},{\"attributes\":{\"dimension\":\"lat\"},\"id\":\"1966\",\"type\":\"MercatorTicker\"},{\"attributes\":{},\"id\":\"1977\",\"type\":\"AllLabels\"},{\"attributes\":{\"factors\":[\"Seton Falls Park\",\"Ellis Island\",\"Riverdale Park\"],\"palette\":[\"#1f77b3\",\"#ff7e0e\",\"#2ba02b\"]},\"id\":\"1995\",\"type\":\"CategoricalColorMapper\"},{\"attributes\":{\"match_aspect\":true,\"overlay\":{\"id\":\"1954\"}},\"id\":\"1952\",\"type\":\"BoxZoomTool\"},{\"attributes\":{\"source\":{\"id\":\"1996\"}},\"id\":\"2005\",\"type\":\"CDSView\"},{\"attributes\":{},\"id\":\"1937\",\"type\":\"LinearScale\"},{\"attributes\":{\"margin\":[5,5,5,5],\"name\":\"HSpacer04790\",\"sizing_mode\":\"stretch_width\"},\"id\":\"1920\",\"type\":\"Spacer\"},{\"attributes\":{\"coordinates\":null,\"data_source\":{\"id\":\"1996\"},\"glyph\":{\"id\":\"1999\"},\"group\":null,\"hover_glyph\":{\"id\":\"2002\"},\"muted_glyph\":{\"id\":\"2003\"},\"nonselection_glyph\":{\"id\":\"2000\"},\"selection_glyph\":{\"id\":\"2001\"},\"view\":{\"id\":\"2005\"}},\"id\":\"2004\",\"type\":\"GlyphRenderer\"},{\"attributes\":{\"bottom_units\":\"screen\",\"coordinates\":null,\"fill_alpha\":0.5,\"fill_color\":\"lightgrey\",\"group\":null,\"left_units\":\"screen\",\"level\":\"overlay\",\"line_alpha\":1.0,\"line_color\":\"black\",\"line_dash\":[4,4],\"line_width\":2,\"right_units\":\"screen\",\"syncable\":false,\"top_units\":\"screen\"},\"id\":\"1954\",\"type\":\"BoxAnnotation\"},{\"attributes\":{\"margin\":[5,5,5,5],\"name\":\"HSpacer04791\",\"sizing_mode\":\"stretch_width\"},\"id\":\"2070\",\"type\":\"Spacer\"},{\"attributes\":{\"axis\":{\"id\":\"1941\"},\"coordinates\":null,\"grid_line_color\":null,\"group\":null,\"ticker\":null},\"id\":\"1944\",\"type\":\"Grid\"},{\"attributes\":{},\"id\":\"1970\",\"type\":\"AllLabels\"},{\"attributes\":{},\"id\":\"1939\",\"type\":\"LinearScale\"},{\"attributes\":{\"end\":4999309.139080644,\"min_interval\":5,\"reset_end\":4999309.139080644,\"reset_start\":4965234.270655496,\"start\":4965234.270655496,\"tags\":[[[\"Latitude\",\"Latitude\",null]]]},\"id\":\"1926\",\"type\":\"Range1d\"},{\"attributes\":{\"axis_label\":\"y\",\"coordinates\":null,\"formatter\":{\"id\":\"1967\"},\"group\":null,\"major_label_policy\":{\"id\":\"1977\"},\"ticker\":{\"id\":\"1966\"}},\"id\":\"1945\",\"type\":\"LinearAxis\"},{\"attributes\":{\"dimension\":\"lon\"},\"id\":\"1964\",\"type\":\"MercatorTicker\"},{\"attributes\":{\"dimension\":\"lon\"},\"id\":\"1965\",\"type\":\"MercatorTickFormatter\"},{\"attributes\":{\"axis_label\":\"x\",\"coordinates\":null,\"formatter\":{\"id\":\"1965\"},\"group\":null,\"major_label_policy\":{\"id\":\"1970\"},\"ticker\":{\"id\":\"1964\"}},\"id\":\"1941\",\"type\":\"LinearAxis\"},{\"attributes\":{\"fill_alpha\":{\"value\":0.8},\"fill_color\":{\"field\":\"color\",\"transform\":{\"id\":\"1995\"}},\"hatch_alpha\":{\"value\":0.8},\"hatch_color\":{\"field\":\"color\",\"transform\":{\"id\":\"1995\"}},\"line_alpha\":{\"value\":0.8},\"line_color\":{\"field\":\"color\",\"transform\":{\"id\":\"1995\"}},\"size\":{\"value\":6.9282032302755105},\"x\":{\"field\":\"Longitude\"},\"y\":{\"field\":\"Latitude\"}},\"id\":\"2002\",\"type\":\"Scatter\"},{\"attributes\":{\"end\":-8207044.811275424,\"min_interval\":5,\"reset_end\":-8207044.811275424,\"reset_start\":-8254749.627070632,\"start\":-8254749.627070632,\"tags\":[[[\"Longitude\",\"Longitude\",null]]]},\"id\":\"1925\",\"type\":\"Range1d\"},{\"attributes\":{\"axis\":{\"id\":\"1945\"},\"coordinates\":null,\"dimension\":1,\"grid_line_color\":null,\"group\":null,\"ticker\":null},\"id\":\"1948\",\"type\":\"Grid\"},{\"attributes\":{\"children\":[{\"id\":\"1920\"},{\"id\":\"1932\"},{\"id\":\"2070\"}],\"margin\":[0,0,0,0],\"name\":\"Row04786\",\"tags\":[\"embedded\"]},\"id\":\"1919\",\"type\":\"Row\"},{\"attributes\":{\"label\":{\"field\":\"color\"},\"renderers\":[{\"id\":\"2004\"}]},\"id\":\"2013\",\"type\":\"LegendItem\"}],\"root_ids\":[\"1919\"]},\"title\":\"Bokeh Application\",\"version\":\"2.4.1\"}};\n",
       "    var render_items = [{\"docid\":\"39a5c079-8dda-4fe2-8de9-ba7df1873aa6\",\"root_ids\":[\"1919\"],\"roots\":{\"1919\":\"77a9d97a-30e6-491a-b8d7-8d878e1eedcf\"}}];\n",
       "    root.Bokeh.embed.embed_items_notebook(docs_json, render_items);\n",
       "  }\n",
       "  if (root.Bokeh !== undefined && root.Bokeh.Panel !== undefined) {\n",
       "    embed_document(root);\n",
       "  } else {\n",
       "    var attempts = 0;\n",
       "    var timer = setInterval(function(root) {\n",
       "      if (root.Bokeh !== undefined && root.Bokeh.Panel !== undefined) {\n",
       "        clearInterval(timer);\n",
       "        embed_document(root);\n",
       "      } else if (document.readyState == \"complete\") {\n",
       "        attempts++;\n",
       "        if (attempts > 200) {\n",
       "          clearInterval(timer);\n",
       "          console.log(\"Bokeh: ERROR: Unable to run BokehJS code because BokehJS library is missing\");\n",
       "        }\n",
       "      }\n",
       "    }, 25, root)\n",
       "  }\n",
       "})(window);</script>"
      ],
      "text/plain": [
       ":Overlay\n",
       "   .Tiles.I  :Tiles   [x,y]\n",
       "   .Points.I :Points   [Longitude,Latitude]   (Name)"
      ]
     },
     "execution_count": 15,
     "metadata": {
      "application/vnd.holoviews_exec.v0+json": {
       "id": "1919"
      }
     },
     "output_type": "execute_result"
    }
   ],
   "source": [
    "# Plot the route between the first second and third locations\n",
    "first_second_third_locations = places_of_interest[(places_of_interest[\"Name\"] == \"Ellis Island\") |\n",
    "                                                  (places_of_interest[\"Name\"] == \"Riverdale Park\") |\n",
    "                                                  (places_of_interest[\"Name\"] == \"Seton Falls Park\")]\n",
    "\n",
    "# Create the plot including your first, second and third locations\n",
    "# Set size = 300 to make the points easier to see on the map\n",
    "second_route = first_second_third_locations.hvplot.points(\n",
    "    'Longitude', \n",
    "    'Latitude', \n",
    "    geo=True, \n",
    "    size = 300,\n",
    "    scale = .4,\n",
    "    color='Name',\n",
    "    alpha=0.8,\n",
    "    tiles='OSM',\n",
    "    frame_width = 700,\n",
    "    frame_height = 500\n",
    "    )\n",
    "\n",
    "# Show the Plot\n",
    "second_route"
   ]
  },
  {
   "cell_type": "markdown",
   "metadata": {},
   "source": [
    "### Step 4: Plot the route between your third, fourth, and fifth locations."
   ]
  },
  {
   "cell_type": "code",
   "execution_count": null,
   "metadata": {},
   "outputs": [],
   "source": [
    "## Step 5: Plot the route between your third, fourth, and fifth locations.\n",
    "third_fourth_fifth_locations = # YOUR CODE HERE\n",
    "\n",
    "# Create the plot including your third, fourth and fifth locations\n",
    "# Set size = 300 to make the points easier to see on the map\n",
    "third_route = # YOUR CODE HERE\n",
    "\n",
    "# Show the Plot\n",
    "# YOUR CODE HERE"
   ]
  },
  {
   "cell_type": "markdown",
   "metadata": {},
   "source": [
    "### Step 5: Plot all the stops in your excursion"
   ]
  },
  {
   "cell_type": "code",
   "execution_count": null,
   "metadata": {},
   "outputs": [],
   "source": [
    "# Plot the course for all of the stops in your excursion, including the airport\n",
    "all_stops = # YOUR CODE HERE\n",
    "\n",
    "# Create the plot that shows all of your stops\n",
    "plot_all_stops = # YOUR CODE HERE\n",
    "\n",
    "# Show the plot\n",
    "# YOUR CODE HERE"
   ]
  },
  {
   "cell_type": "markdown",
   "metadata": {},
   "source": [
    "**Question:** Given the location of the stops on your excursion, what is the order in which you should visit them to get you back to the airport most efficiently?\n",
    "\n",
    "**Answer:** # YOUR ANSWER HERE"
   ]
  },
  {
   "cell_type": "code",
   "execution_count": null,
   "metadata": {},
   "outputs": [],
   "source": []
  }
 ],
 "metadata": {
  "kernelspec": {
   "display_name": "Python 3 (ipykernel)",
   "language": "python",
   "name": "python3"
  },
  "language_info": {
   "codemirror_mode": {
    "name": "ipython",
    "version": 3
   },
   "file_extension": ".py",
   "mimetype": "text/x-python",
   "name": "python",
   "nbconvert_exporter": "python",
   "pygments_lexer": "ipython3",
   "version": "3.7.11"
  }
 },
 "nbformat": 4,
 "nbformat_minor": 4
}
