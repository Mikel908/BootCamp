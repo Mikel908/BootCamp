{
 "cells": [
  {
   "cell_type": "markdown",
   "metadata": {},
   "source": [
    "## Ice Breakers on Request"
   ]
  },
  {
   "cell_type": "markdown",
   "metadata": {},
   "source": [
    "### Import requests library"
   ]
  },
  {
   "cell_type": "code",
   "execution_count": 26,
   "metadata": {},
   "outputs": [],
   "source": [
    "import requests"
   ]
  },
  {
   "cell_type": "markdown",
   "metadata": {},
   "source": [
    "### Declare `request_urls`"
   ]
  },
  {
   "cell_type": "code",
   "execution_count": 27,
   "metadata": {},
   "outputs": [],
   "source": [
    "# Declare `url` variables\n",
    "\n",
    "cat_facts_url = \"https://cat-fact.herokuapp.com/facts\"\n",
    "dot_spending_url = \"https://api.usaspending.gov//api/v2/references/agency/456/\"\n",
    "us_gdp_data_url = \"http://api.worldbank.org/v2/country/us?format=json\""
   ]
  },
  {
   "cell_type": "markdown",
   "metadata": {},
   "source": [
    "### Execute `GET` request using `requests` library"
   ]
  },
  {
   "cell_type": "code",
   "execution_count": 28,
   "metadata": {},
   "outputs": [],
   "source": [
    "# Execute `GET` request with url\n",
    "response = requests.get(cat_facts_url)"
   ]
  },
  {
   "cell_type": "markdown",
   "metadata": {},
   "source": [
    "### Get response `status code`"
   ]
  },
  {
   "cell_type": "code",
   "execution_count": 29,
   "metadata": {},
   "outputs": [
    {
     "data": {
      "text/plain": [
       "[{'status': {'verified': True, 'sentCount': 1},\n",
       "  '_id': '58e008800aac31001185ed07',\n",
       "  'user': '58e007480aac31001185ecef',\n",
       "  'text': 'Wikipedia has a recording of a cat meowing, because why not?',\n",
       "  '__v': 0,\n",
       "  'source': 'user',\n",
       "  'updatedAt': '2020-08-23T20:20:01.611Z',\n",
       "  'type': 'cat',\n",
       "  'createdAt': '2018-03-06T21:20:03.505Z',\n",
       "  'deleted': False,\n",
       "  'used': False},\n",
       " {'status': {'verified': True, 'sentCount': 1},\n",
       "  '_id': '58e008630aac31001185ed01',\n",
       "  'user': '58e007480aac31001185ecef',\n",
       "  'text': 'When cats grimace, they are usually \"taste-scenting.\" They have an extra organ that, with some breathing control, allows the cats to taste-sense the air.',\n",
       "  '__v': 0,\n",
       "  'source': 'user',\n",
       "  'updatedAt': '2020-08-23T20:20:01.611Z',\n",
       "  'type': 'cat',\n",
       "  'createdAt': '2018-02-07T21:20:02.903Z',\n",
       "  'deleted': False,\n",
       "  'used': False},\n",
       " {'status': {'verified': True, 'sentCount': 1},\n",
       "  '_id': '58e00a090aac31001185ed16',\n",
       "  'user': '58e007480aac31001185ecef',\n",
       "  'text': 'Cats make more than 100 different sounds whereas dogs make around 10.',\n",
       "  '__v': 0,\n",
       "  'source': 'user',\n",
       "  'updatedAt': '2020-08-23T20:20:01.611Z',\n",
       "  'type': 'cat',\n",
       "  'createdAt': '2018-02-11T21:20:03.745Z',\n",
       "  'deleted': False,\n",
       "  'used': False},\n",
       " {'status': {'verified': True, 'sentCount': 1},\n",
       "  '_id': '58e009390aac31001185ed10',\n",
       "  'user': '58e007480aac31001185ecef',\n",
       "  'text': \"Most cats are lactose intolerant, and milk can cause painful stomach cramps and diarrhea. It's best to forego the milk and just give your cat the standard: clean, cool drinking water.\",\n",
       "  '__v': 0,\n",
       "  'source': 'user',\n",
       "  'updatedAt': '2020-08-23T20:20:01.611Z',\n",
       "  'type': 'cat',\n",
       "  'createdAt': '2018-03-04T21:20:02.979Z',\n",
       "  'deleted': False,\n",
       "  'used': False},\n",
       " {'status': {'verified': True, 'sentCount': 1},\n",
       "  '_id': '58e008780aac31001185ed05',\n",
       "  'user': '58e007480aac31001185ecef',\n",
       "  'text': 'Owning a cat can reduce the risk of stroke and heart attack by a third.',\n",
       "  '__v': 0,\n",
       "  'source': 'user',\n",
       "  'updatedAt': '2020-08-23T20:20:01.611Z',\n",
       "  'type': 'cat',\n",
       "  'createdAt': '2018-03-29T20:20:03.844Z',\n",
       "  'deleted': False,\n",
       "  'used': False}]"
      ]
     },
     "execution_count": 29,
     "metadata": {},
     "output_type": "execute_result"
    }
   ],
   "source": [
    "# Print `response_data variable`\n",
    "response_data = response.json()\n",
    "response_data"
   ]
  },
  {
   "cell_type": "markdown",
   "metadata": {},
   "source": [
    "### Extract response `content`"
   ]
  },
  {
   "cell_type": "code",
   "execution_count": 31,
   "metadata": {},
   "outputs": [
    {
     "data": {
      "text/plain": [
       "{'Server': 'Cowboy', 'Connection': 'keep-alive', 'X-Powered-By': 'Express', 'Access-Control-Allow-Origin': '*', 'Content-Type': 'application/json; charset=utf-8', 'Content-Length': '1859', 'Etag': 'W/\"743-wddLBn/iA1pX11XPOeCdXfKM6GE\"', 'Set-Cookie': 'connect.sid=s%3AUuMHz53UygvxXlM0TvwK4BlNAUWqvJQV.EO1NDx4lakblLsx7kMfJw14yC3j6CnKt%2FkPjk2COj4o; Path=/; HttpOnly', 'Date': 'Tue, 05 Apr 2022 00:54:30 GMT', 'Via': '1.1 vegur'}"
      ]
     },
     "execution_count": 31,
     "metadata": {},
     "output_type": "execute_result"
    }
   ],
   "source": [
    "# Store response using `content` attribute\n",
    "response.headers"
   ]
  },
  {
   "cell_type": "markdown",
   "metadata": {},
   "source": [
    "### Convert output to JSON"
   ]
  },
  {
   "cell_type": "code",
   "execution_count": 32,
   "metadata": {},
   "outputs": [
    {
     "data": {
      "text/plain": [
       "[{'status': {'verified': True, 'sentCount': 1},\n",
       "  '_id': '58e008800aac31001185ed07',\n",
       "  'user': '58e007480aac31001185ecef',\n",
       "  'text': 'Wikipedia has a recording of a cat meowing, because why not?',\n",
       "  '__v': 0,\n",
       "  'source': 'user',\n",
       "  'updatedAt': '2020-08-23T20:20:01.611Z',\n",
       "  'type': 'cat',\n",
       "  'createdAt': '2018-03-06T21:20:03.505Z',\n",
       "  'deleted': False,\n",
       "  'used': False},\n",
       " {'status': {'verified': True, 'sentCount': 1},\n",
       "  '_id': '58e008630aac31001185ed01',\n",
       "  'user': '58e007480aac31001185ecef',\n",
       "  'text': 'When cats grimace, they are usually \"taste-scenting.\" They have an extra organ that, with some breathing control, allows the cats to taste-sense the air.',\n",
       "  '__v': 0,\n",
       "  'source': 'user',\n",
       "  'updatedAt': '2020-08-23T20:20:01.611Z',\n",
       "  'type': 'cat',\n",
       "  'createdAt': '2018-02-07T21:20:02.903Z',\n",
       "  'deleted': False,\n",
       "  'used': False},\n",
       " {'status': {'verified': True, 'sentCount': 1},\n",
       "  '_id': '58e00a090aac31001185ed16',\n",
       "  'user': '58e007480aac31001185ecef',\n",
       "  'text': 'Cats make more than 100 different sounds whereas dogs make around 10.',\n",
       "  '__v': 0,\n",
       "  'source': 'user',\n",
       "  'updatedAt': '2020-08-23T20:20:01.611Z',\n",
       "  'type': 'cat',\n",
       "  'createdAt': '2018-02-11T21:20:03.745Z',\n",
       "  'deleted': False,\n",
       "  'used': False},\n",
       " {'status': {'verified': True, 'sentCount': 1},\n",
       "  '_id': '58e009390aac31001185ed10',\n",
       "  'user': '58e007480aac31001185ecef',\n",
       "  'text': \"Most cats are lactose intolerant, and milk can cause painful stomach cramps and diarrhea. It's best to forego the milk and just give your cat the standard: clean, cool drinking water.\",\n",
       "  '__v': 0,\n",
       "  'source': 'user',\n",
       "  'updatedAt': '2020-08-23T20:20:01.611Z',\n",
       "  'type': 'cat',\n",
       "  'createdAt': '2018-03-04T21:20:02.979Z',\n",
       "  'deleted': False,\n",
       "  'used': False},\n",
       " {'status': {'verified': True, 'sentCount': 1},\n",
       "  '_id': '58e008780aac31001185ed05',\n",
       "  'user': '58e007480aac31001185ecef',\n",
       "  'text': 'Owning a cat can reduce the risk of stroke and heart attack by a third.',\n",
       "  '__v': 0,\n",
       "  'source': 'user',\n",
       "  'updatedAt': '2020-08-23T20:20:01.611Z',\n",
       "  'type': 'cat',\n",
       "  'createdAt': '2018-03-29T20:20:03.844Z',\n",
       "  'deleted': False,\n",
       "  'used': False}]"
      ]
     },
     "execution_count": 32,
     "metadata": {},
     "output_type": "execute_result"
    }
   ],
   "source": [
    "# Format data as JSON\n",
    "response.json()"
   ]
  },
  {
   "cell_type": "markdown",
   "metadata": {},
   "source": [
    "### Format data with `json.dumps`"
   ]
  },
  {
   "cell_type": "code",
   "execution_count": null,
   "metadata": {},
   "outputs": [],
   "source": [
    "import json\n",
    "\n",
    "# Use json.dumps to format data\n",
    "json.dumps()"
   ]
  },
  {
   "cell_type": "markdown",
   "metadata": {},
   "source": [
    "### Select value and store as variable"
   ]
  },
  {
   "cell_type": "code",
   "execution_count": null,
   "metadata": {},
   "outputs": [],
   "source": [
    "# Select a programming joke \n",
    "\n",
    "\n",
    "# Select a cat joke from JSON output\n",
    "# selected_value = data['all'][0]['text']"
   ]
  },
  {
   "cell_type": "code",
   "execution_count": null,
   "metadata": {},
   "outputs": [],
   "source": [
    "# Print selected values\n"
   ]
  }
 ],
 "metadata": {
  "kernelspec": {
   "display_name": "Python 3",
   "language": "python",
   "name": "python3"
  },
  "language_info": {
   "codemirror_mode": {
    "name": "ipython",
    "version": 3
   },
   "file_extension": ".py",
   "mimetype": "text/x-python",
   "name": "python",
   "nbconvert_exporter": "python",
   "pygments_lexer": "ipython3",
   "version": "3.7.11"
  }
 },
 "nbformat": 4,
 "nbformat_minor": 2
}
